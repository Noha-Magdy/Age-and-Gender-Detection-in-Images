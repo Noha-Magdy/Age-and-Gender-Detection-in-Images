{
  "nbformat": 4,
  "nbformat_minor": 0,
  "metadata": {
    "kernelspec": {
      "display_name": "Python 3",
      "language": "python",
      "name": "python3"
    },
    "language_info": {
      "codemirror_mode": {
        "name": "ipython",
        "version": 3
      },
      "file_extension": ".py",
      "mimetype": "text/x-python",
      "name": "python",
      "nbconvert_exporter": "python",
      "pygments_lexer": "ipython3",
      "version": "3.7.4"
    },
    "colab": {
      "name": "Gender detection.ipynb",
      "provenance": []
    }
  },
  "cells": [
    {
      "cell_type": "markdown",
      "metadata": {
        "id": "T4VUHHA0tL3u",
        "colab_type": "text"
      },
      "source": [
        "#### Name: Noha Magdy Ali \n",
        "#### ID: 1610126\n",
        "# Age and Gender Recognition using openCV and CNNs "
      ]
    },
    {
      "cell_type": "markdown",
      "metadata": {
        "id": "b5IBXHr9tL3y",
        "colab_type": "text"
      },
      "source": [
        "### Needed packages "
      ]
    },
    {
      "cell_type": "code",
      "metadata": {
        "id": "nJeF8yrXtL3z",
        "colab_type": "code",
        "outputId": "ae217605-79eb-49c7-d9b8-ef9f7238aa12",
        "colab": {
          "base_uri": "https://localhost:8080/",
          "height": 836
        }
      },
      "source": [
        "from skimage import data, io\n",
        "from matplotlib import pyplot as plt\n",
        "import numpy as np\n",
        "from skimage import img_as_ubyte,img_as_float\n",
        "from skimage import data, io, filters\n",
        "from matplotlib.pyplot import imshow, show\n",
        "from skimage.morphology import watershed\n",
        "from skimage.measure import label\n",
        "from skimage.color import label2rgb\n",
        "from skimage import feature\n",
        "from skimage.filters import threshold_otsu,  threshold_local, sobel\n",
        "from skimage.morphology import erosion,dilation,opening,closing,square,disk\n",
        "from skimage.measure import label\n",
        "from skimage.color import label2rgb\n",
        "import os\n",
        "import pandas as pd\n",
        "!pip install -U tf-nightly\n",
        "import tensorflow as tf\n",
        "import functools\n",
        "!pip install mitdeeplearning\n",
        "import mitdeeplearning as mdl\n",
        "from tqdm import tqdm\n",
        "import cv2\n",
        "from skimage.transform import rescale, resize\n",
        "from skimage.color import rgb2gray\n",
        "print(tf.__version__)\n",
        "\n"
      ],
      "execution_count": 16,
      "outputs": [
        {
          "output_type": "stream",
          "text": [
            "Requirement already up-to-date: tf-nightly in /usr/local/lib/python3.6/dist-packages (2.3.0.dev20200529)\n",
            "Requirement already satisfied, skipping upgrade: h5py<2.11.0,>=2.10.0 in /usr/local/lib/python3.6/dist-packages (from tf-nightly) (2.10.0)\n",
            "Requirement already satisfied, skipping upgrade: absl-py>=0.7.0 in /usr/local/lib/python3.6/dist-packages (from tf-nightly) (0.9.0)\n",
            "Requirement already satisfied, skipping upgrade: tf-estimator-nightly in /usr/local/lib/python3.6/dist-packages (from tf-nightly) (2.3.0.dev2020052901)\n",
            "Requirement already satisfied, skipping upgrade: wrapt>=1.11.1 in /usr/local/lib/python3.6/dist-packages (from tf-nightly) (1.12.1)\n",
            "Requirement already satisfied, skipping upgrade: wheel>=0.26 in /usr/local/lib/python3.6/dist-packages (from tf-nightly) (0.34.2)\n",
            "Requirement already satisfied, skipping upgrade: numpy<2.0,>=1.16.0 in /usr/local/lib/python3.6/dist-packages (from tf-nightly) (1.18.4)\n",
            "Requirement already satisfied, skipping upgrade: gast==0.3.3 in /usr/local/lib/python3.6/dist-packages (from tf-nightly) (0.3.3)\n",
            "Requirement already satisfied, skipping upgrade: protobuf>=3.9.2 in /usr/local/lib/python3.6/dist-packages (from tf-nightly) (3.10.0)\n",
            "Requirement already satisfied, skipping upgrade: six>=1.12.0 in /usr/local/lib/python3.6/dist-packages (from tf-nightly) (1.12.0)\n",
            "Requirement already satisfied, skipping upgrade: grpcio>=1.8.6 in /usr/local/lib/python3.6/dist-packages (from tf-nightly) (1.29.0)\n",
            "Requirement already satisfied, skipping upgrade: astunparse==1.6.3 in /usr/local/lib/python3.6/dist-packages (from tf-nightly) (1.6.3)\n",
            "Requirement already satisfied, skipping upgrade: tb-nightly<2.4.0a0,>=2.3.0a0 in /usr/local/lib/python3.6/dist-packages (from tf-nightly) (2.3.0a20200529)\n",
            "Requirement already satisfied, skipping upgrade: termcolor>=1.1.0 in /usr/local/lib/python3.6/dist-packages (from tf-nightly) (1.1.0)\n",
            "Requirement already satisfied, skipping upgrade: scipy==1.4.1 in /usr/local/lib/python3.6/dist-packages (from tf-nightly) (1.4.1)\n",
            "Requirement already satisfied, skipping upgrade: opt-einsum>=2.3.2 in /usr/local/lib/python3.6/dist-packages (from tf-nightly) (3.2.1)\n",
            "Requirement already satisfied, skipping upgrade: keras-preprocessing<1.2,>=1.1.1 in /usr/local/lib/python3.6/dist-packages (from tf-nightly) (1.1.2)\n",
            "Requirement already satisfied, skipping upgrade: google-pasta>=0.1.8 in /usr/local/lib/python3.6/dist-packages (from tf-nightly) (0.2.0)\n",
            "Requirement already satisfied, skipping upgrade: setuptools in /usr/local/lib/python3.6/dist-packages (from protobuf>=3.9.2->tf-nightly) (46.4.0)\n",
            "Requirement already satisfied, skipping upgrade: requests<3,>=2.21.0 in /usr/local/lib/python3.6/dist-packages (from tb-nightly<2.4.0a0,>=2.3.0a0->tf-nightly) (2.23.0)\n",
            "Requirement already satisfied, skipping upgrade: tensorboard-plugin-wit>=1.6.0 in /usr/local/lib/python3.6/dist-packages (from tb-nightly<2.4.0a0,>=2.3.0a0->tf-nightly) (1.6.0.post3)\n",
            "Requirement already satisfied, skipping upgrade: werkzeug>=0.11.15 in /usr/local/lib/python3.6/dist-packages (from tb-nightly<2.4.0a0,>=2.3.0a0->tf-nightly) (1.0.1)\n",
            "Requirement already satisfied, skipping upgrade: google-auth-oauthlib<0.5,>=0.4.1 in /usr/local/lib/python3.6/dist-packages (from tb-nightly<2.4.0a0,>=2.3.0a0->tf-nightly) (0.4.1)\n",
            "Requirement already satisfied, skipping upgrade: google-auth<2,>=1.6.3 in /usr/local/lib/python3.6/dist-packages (from tb-nightly<2.4.0a0,>=2.3.0a0->tf-nightly) (1.7.2)\n",
            "Requirement already satisfied, skipping upgrade: markdown>=2.6.8 in /usr/local/lib/python3.6/dist-packages (from tb-nightly<2.4.0a0,>=2.3.0a0->tf-nightly) (3.2.2)\n",
            "Requirement already satisfied, skipping upgrade: urllib3!=1.25.0,!=1.25.1,<1.26,>=1.21.1 in /usr/local/lib/python3.6/dist-packages (from requests<3,>=2.21.0->tb-nightly<2.4.0a0,>=2.3.0a0->tf-nightly) (1.24.3)\n",
            "Requirement already satisfied, skipping upgrade: chardet<4,>=3.0.2 in /usr/local/lib/python3.6/dist-packages (from requests<3,>=2.21.0->tb-nightly<2.4.0a0,>=2.3.0a0->tf-nightly) (3.0.4)\n",
            "Requirement already satisfied, skipping upgrade: idna<3,>=2.5 in /usr/local/lib/python3.6/dist-packages (from requests<3,>=2.21.0->tb-nightly<2.4.0a0,>=2.3.0a0->tf-nightly) (2.9)\n",
            "Requirement already satisfied, skipping upgrade: certifi>=2017.4.17 in /usr/local/lib/python3.6/dist-packages (from requests<3,>=2.21.0->tb-nightly<2.4.0a0,>=2.3.0a0->tf-nightly) (2020.4.5.1)\n",
            "Requirement already satisfied, skipping upgrade: requests-oauthlib>=0.7.0 in /usr/local/lib/python3.6/dist-packages (from google-auth-oauthlib<0.5,>=0.4.1->tb-nightly<2.4.0a0,>=2.3.0a0->tf-nightly) (1.3.0)\n",
            "Requirement already satisfied, skipping upgrade: cachetools<3.2,>=2.0.0 in /usr/local/lib/python3.6/dist-packages (from google-auth<2,>=1.6.3->tb-nightly<2.4.0a0,>=2.3.0a0->tf-nightly) (3.1.1)\n",
            "Requirement already satisfied, skipping upgrade: rsa<4.1,>=3.1.4 in /usr/local/lib/python3.6/dist-packages (from google-auth<2,>=1.6.3->tb-nightly<2.4.0a0,>=2.3.0a0->tf-nightly) (4.0)\n",
            "Requirement already satisfied, skipping upgrade: pyasn1-modules>=0.2.1 in /usr/local/lib/python3.6/dist-packages (from google-auth<2,>=1.6.3->tb-nightly<2.4.0a0,>=2.3.0a0->tf-nightly) (0.2.8)\n",
            "Requirement already satisfied, skipping upgrade: importlib-metadata; python_version < \"3.8\" in /usr/local/lib/python3.6/dist-packages (from markdown>=2.6.8->tb-nightly<2.4.0a0,>=2.3.0a0->tf-nightly) (1.6.0)\n",
            "Requirement already satisfied, skipping upgrade: oauthlib>=3.0.0 in /usr/local/lib/python3.6/dist-packages (from requests-oauthlib>=0.7.0->google-auth-oauthlib<0.5,>=0.4.1->tb-nightly<2.4.0a0,>=2.3.0a0->tf-nightly) (3.1.0)\n",
            "Requirement already satisfied, skipping upgrade: pyasn1>=0.1.3 in /usr/local/lib/python3.6/dist-packages (from rsa<4.1,>=3.1.4->google-auth<2,>=1.6.3->tb-nightly<2.4.0a0,>=2.3.0a0->tf-nightly) (0.4.8)\n",
            "Requirement already satisfied, skipping upgrade: zipp>=0.5 in /usr/local/lib/python3.6/dist-packages (from importlib-metadata; python_version < \"3.8\"->markdown>=2.6.8->tb-nightly<2.4.0a0,>=2.3.0a0->tf-nightly) (3.1.0)\n",
            "Requirement already satisfied: mitdeeplearning in /usr/local/lib/python3.6/dist-packages (0.1.2)\n",
            "Requirement already satisfied: tqdm in /usr/local/lib/python3.6/dist-packages (from mitdeeplearning) (4.41.1)\n",
            "Requirement already satisfied: gym in /usr/local/lib/python3.6/dist-packages (from mitdeeplearning) (0.17.2)\n",
            "Requirement already satisfied: regex in /usr/local/lib/python3.6/dist-packages (from mitdeeplearning) (2019.12.20)\n",
            "Requirement already satisfied: numpy in /usr/local/lib/python3.6/dist-packages (from mitdeeplearning) (1.18.4)\n",
            "Requirement already satisfied: pyglet<=1.5.0,>=1.4.0 in /usr/local/lib/python3.6/dist-packages (from gym->mitdeeplearning) (1.5.0)\n",
            "Requirement already satisfied: scipy in /usr/local/lib/python3.6/dist-packages (from gym->mitdeeplearning) (1.4.1)\n",
            "Requirement already satisfied: cloudpickle<1.4.0,>=1.2.0 in /usr/local/lib/python3.6/dist-packages (from gym->mitdeeplearning) (1.3.0)\n",
            "Requirement already satisfied: future in /usr/local/lib/python3.6/dist-packages (from pyglet<=1.5.0,>=1.4.0->gym->mitdeeplearning) (0.16.0)\n",
            "2.3.0-dev20200529\n"
          ],
          "name": "stdout"
        }
      ]
    },
    {
      "cell_type": "markdown",
      "metadata": {
        "id": "IcigeGYNtL35",
        "colab_type": "text"
      },
      "source": [
        "### Loading and Preparing Data"
      ]
    },
    {
      "cell_type": "code",
      "metadata": {
        "id": "MSVS1skY380V",
        "colab_type": "code",
        "colab": {}
      },
      "source": [
        "# file_id = '0BxYys69jI14kSVdWWllDMWhnN2c'\n",
        "# request = drive_service.files().get_media(fileId=file_id)\n",
        "# fh = io.BytesIO()\n",
        "# downloader = MediaIoBaseDownload(fh, request)\n",
        "# done = False\n",
        "# while done is False:\n",
        "#     status, done = downloader.next_chunk()\n",
        "#     print (\"Download %d%%.\" % int(status.progress() * 100))\n",
        "\n",
        "# !wget -P /usr https://drive.google.com/drive/u/0/folders/0BxYys69jI14kSVdWWllDMWhnN2c\n",
        "\n",
        "# my_tar = tarfile.open(\"/usr/0BxYys69jI14kSVdWWllDMWhnN2c.tar.gz\")\n",
        "# my_tar.extractall('/usr/Dataset') # specify which folder to extract to\n",
        "# my_tar.close()\n",
        "\n",
        "\n"
      ],
      "execution_count": 0,
      "outputs": []
    },
    {
      "cell_type": "code",
      "metadata": {
        "id": "Jg9FPaf2SZXp",
        "colab_type": "code",
        "colab": {
          "base_uri": "https://localhost:8080/",
          "height": 34
        },
        "outputId": "3d5bb484-a424-4199-ad1e-619f12b92e5f"
      },
      "source": [
        "from google.colab import drive\n",
        "drive.mount('/content/drive')"
      ],
      "execution_count": 4,
      "outputs": [
        {
          "output_type": "stream",
          "text": [
            "Drive already mounted at /content/drive; to attempt to forcibly remount, call drive.mount(\"/content/drive\", force_remount=True).\n"
          ],
          "name": "stdout"
        }
      ]
    },
    {
      "cell_type": "code",
      "metadata": {
        "id": "9p-2HfCMtL35",
        "colab_type": "code",
        "colab": {}
      },
      "source": [
        "path= \"/content/drive/My Drive/Dataset/\"\n",
        "data= os.listdir(path)\n",
        "#print (data)\n",
        "Data = pd.DataFrame(columns=[\"Image\", \"Age\", \"Gender\"])\n",
        "\n",
        "\n",
        "for idx,i in zip(range(len(data)),data):\n",
        "    age, gender, race, name=i.split(\"_\")\n",
        "    img = io.imread(path+i)\n",
        "    img = resize(img, (512, 512))\n",
        "    img = rgb2gray(img)\n",
        "    img=img_as_ubyte(img)\n",
        "    img=np.array(img)\n",
        "    Data.loc[idx] = [ img, age, gender]\n",
        "    #append(pd.Series(data={\"Image\":img, \"Age\":age, \"Gender\":gender}, name=idx))"
      ],
      "execution_count": 0,
      "outputs": []
    },
    {
      "cell_type": "code",
      "metadata": {
        "id": "lV7xzy1NtL39",
        "colab_type": "code",
        "outputId": "4423fbae-eced-4e7f-fff7-6d89fee78bc8",
        "colab": {
          "base_uri": "https://localhost:8080/",
          "height": 34
        }
      },
      "source": [
        "Data.shape"
      ],
      "execution_count": 36,
      "outputs": [
        {
          "output_type": "execute_result",
          "data": {
            "text/plain": [
              "(3251, 3)"
            ]
          },
          "metadata": {
            "tags": []
          },
          "execution_count": 36
        }
      ]
    },
    {
      "cell_type": "code",
      "metadata": {
        "id": "ppjD_DsxtL4E",
        "colab_type": "code",
        "outputId": "1bf1842b-edf0-4d4b-f378-55e97fa12f5f",
        "colab": {
          "base_uri": "https://localhost:8080/",
          "height": 204
        }
      },
      "source": [
        "Data.head()"
      ],
      "execution_count": 37,
      "outputs": [
        {
          "output_type": "execute_result",
          "data": {
            "text/html": [
              "<div>\n",
              "<style scoped>\n",
              "    .dataframe tbody tr th:only-of-type {\n",
              "        vertical-align: middle;\n",
              "    }\n",
              "\n",
              "    .dataframe tbody tr th {\n",
              "        vertical-align: top;\n",
              "    }\n",
              "\n",
              "    .dataframe thead th {\n",
              "        text-align: right;\n",
              "    }\n",
              "</style>\n",
              "<table border=\"1\" class=\"dataframe\">\n",
              "  <thead>\n",
              "    <tr style=\"text-align: right;\">\n",
              "      <th></th>\n",
              "      <th>Image</th>\n",
              "      <th>Age</th>\n",
              "      <th>Gender</th>\n",
              "    </tr>\n",
              "  </thead>\n",
              "  <tbody>\n",
              "    <tr>\n",
              "      <th>0</th>\n",
              "      <td>[[255, 255, 255, 255, 255, 255, 255, 255, 255,...</td>\n",
              "      <td>61</td>\n",
              "      <td>0</td>\n",
              "    </tr>\n",
              "    <tr>\n",
              "      <th>1</th>\n",
              "      <td>[[153, 174, 196, 206, 207, 205, 206, 206, 206,...</td>\n",
              "      <td>40</td>\n",
              "      <td>0</td>\n",
              "    </tr>\n",
              "    <tr>\n",
              "      <th>2</th>\n",
              "      <td>[[253, 253, 253, 252, 252, 252, 251, 252, 252,...</td>\n",
              "      <td>45</td>\n",
              "      <td>0</td>\n",
              "    </tr>\n",
              "    <tr>\n",
              "      <th>3</th>\n",
              "      <td>[[30, 27, 47, 67, 90, 105, 95, 86, 88, 91, 91,...</td>\n",
              "      <td>41</td>\n",
              "      <td>0</td>\n",
              "    </tr>\n",
              "    <tr>\n",
              "      <th>4</th>\n",
              "      <td>[[177, 177, 177, 178, 178, 178, 179, 179, 181,...</td>\n",
              "      <td>54</td>\n",
              "      <td>0</td>\n",
              "    </tr>\n",
              "  </tbody>\n",
              "</table>\n",
              "</div>"
            ],
            "text/plain": [
              "                                               Image Age Gender\n",
              "0  [[255, 255, 255, 255, 255, 255, 255, 255, 255,...  61      0\n",
              "1  [[153, 174, 196, 206, 207, 205, 206, 206, 206,...  40      0\n",
              "2  [[253, 253, 253, 252, 252, 252, 251, 252, 252,...  45      0\n",
              "3  [[30, 27, 47, 67, 90, 105, 95, 86, 88, 91, 91,...  41      0\n",
              "4  [[177, 177, 177, 178, 178, 178, 179, 179, 181,...  54      0"
            ]
          },
          "metadata": {
            "tags": []
          },
          "execution_count": 37
        }
      ]
    },
    {
      "cell_type": "code",
      "metadata": {
        "id": "qgCeg5zftL4K",
        "colab_type": "code",
        "outputId": "4417ccab-6067-4e06-879b-8e56a5522500",
        "colab": {
          "base_uri": "https://localhost:8080/",
          "height": 419
        }
      },
      "source": [
        "rand_idxs = np.random.choice(Data.shape[0], 500, True)\n",
        "test = Data.loc[rand_idxs]\n",
        "train = Data\n",
        "train.drop(rand_idxs)"
      ],
      "execution_count": 38,
      "outputs": [
        {
          "output_type": "execute_result",
          "data": {
            "text/html": [
              "<div>\n",
              "<style scoped>\n",
              "    .dataframe tbody tr th:only-of-type {\n",
              "        vertical-align: middle;\n",
              "    }\n",
              "\n",
              "    .dataframe tbody tr th {\n",
              "        vertical-align: top;\n",
              "    }\n",
              "\n",
              "    .dataframe thead th {\n",
              "        text-align: right;\n",
              "    }\n",
              "</style>\n",
              "<table border=\"1\" class=\"dataframe\">\n",
              "  <thead>\n",
              "    <tr style=\"text-align: right;\">\n",
              "      <th></th>\n",
              "      <th>Image</th>\n",
              "      <th>Age</th>\n",
              "      <th>Gender</th>\n",
              "    </tr>\n",
              "  </thead>\n",
              "  <tbody>\n",
              "    <tr>\n",
              "      <th>0</th>\n",
              "      <td>[[255, 255, 255, 255, 255, 255, 255, 255, 255,...</td>\n",
              "      <td>61</td>\n",
              "      <td>0</td>\n",
              "    </tr>\n",
              "    <tr>\n",
              "      <th>1</th>\n",
              "      <td>[[153, 174, 196, 206, 207, 205, 206, 206, 206,...</td>\n",
              "      <td>40</td>\n",
              "      <td>0</td>\n",
              "    </tr>\n",
              "    <tr>\n",
              "      <th>2</th>\n",
              "      <td>[[253, 253, 253, 252, 252, 252, 251, 252, 252,...</td>\n",
              "      <td>45</td>\n",
              "      <td>0</td>\n",
              "    </tr>\n",
              "    <tr>\n",
              "      <th>3</th>\n",
              "      <td>[[30, 27, 47, 67, 90, 105, 95, 86, 88, 91, 91,...</td>\n",
              "      <td>41</td>\n",
              "      <td>0</td>\n",
              "    </tr>\n",
              "    <tr>\n",
              "      <th>4</th>\n",
              "      <td>[[177, 177, 177, 178, 178, 178, 179, 179, 181,...</td>\n",
              "      <td>54</td>\n",
              "      <td>0</td>\n",
              "    </tr>\n",
              "    <tr>\n",
              "      <th>...</th>\n",
              "      <td>...</td>\n",
              "      <td>...</td>\n",
              "      <td>...</td>\n",
              "    </tr>\n",
              "    <tr>\n",
              "      <th>3244</th>\n",
              "      <td>[[76, 76, 76, 76, 76, 76, 76, 76, 76, 76, 76, ...</td>\n",
              "      <td>68</td>\n",
              "      <td>0</td>\n",
              "    </tr>\n",
              "    <tr>\n",
              "      <th>3245</th>\n",
              "      <td>[[180, 180, 180, 180, 180, 180, 180, 180, 180,...</td>\n",
              "      <td>70</td>\n",
              "      <td>0</td>\n",
              "    </tr>\n",
              "    <tr>\n",
              "      <th>3246</th>\n",
              "      <td>[[152, 152, 152, 152, 152, 152, 152, 152, 152,...</td>\n",
              "      <td>65</td>\n",
              "      <td>0</td>\n",
              "    </tr>\n",
              "    <tr>\n",
              "      <th>3247</th>\n",
              "      <td>[[127, 127, 127, 127, 127, 127, 127, 127, 127,...</td>\n",
              "      <td>65</td>\n",
              "      <td>0</td>\n",
              "    </tr>\n",
              "    <tr>\n",
              "      <th>3249</th>\n",
              "      <td>[[82, 81, 81, 81, 81, 80, 78, 74, 71, 69, 67, ...</td>\n",
              "      <td>50</td>\n",
              "      <td>0</td>\n",
              "    </tr>\n",
              "  </tbody>\n",
              "</table>\n",
              "<p>2779 rows × 3 columns</p>\n",
              "</div>"
            ],
            "text/plain": [
              "                                                  Image Age Gender\n",
              "0     [[255, 255, 255, 255, 255, 255, 255, 255, 255,...  61      0\n",
              "1     [[153, 174, 196, 206, 207, 205, 206, 206, 206,...  40      0\n",
              "2     [[253, 253, 253, 252, 252, 252, 251, 252, 252,...  45      0\n",
              "3     [[30, 27, 47, 67, 90, 105, 95, 86, 88, 91, 91,...  41      0\n",
              "4     [[177, 177, 177, 178, 178, 178, 179, 179, 181,...  54      0\n",
              "...                                                 ...  ..    ...\n",
              "3244  [[76, 76, 76, 76, 76, 76, 76, 76, 76, 76, 76, ...  68      0\n",
              "3245  [[180, 180, 180, 180, 180, 180, 180, 180, 180,...  70      0\n",
              "3246  [[152, 152, 152, 152, 152, 152, 152, 152, 152,...  65      0\n",
              "3247  [[127, 127, 127, 127, 127, 127, 127, 127, 127,...  65      0\n",
              "3249  [[82, 81, 81, 81, 81, 80, 78, 74, 71, 69, 67, ...  50      0\n",
              "\n",
              "[2779 rows x 3 columns]"
            ]
          },
          "metadata": {
            "tags": []
          },
          "execution_count": 38
        }
      ]
    },
    {
      "cell_type": "code",
      "metadata": {
        "id": "0tf1Ra2AtL4P",
        "colab_type": "code",
        "outputId": "1a898426-593c-42d2-de93-2540236abcba",
        "colab": {
          "base_uri": "https://localhost:8080/",
          "height": 204
        }
      },
      "source": [
        "train.head()"
      ],
      "execution_count": 39,
      "outputs": [
        {
          "output_type": "execute_result",
          "data": {
            "text/html": [
              "<div>\n",
              "<style scoped>\n",
              "    .dataframe tbody tr th:only-of-type {\n",
              "        vertical-align: middle;\n",
              "    }\n",
              "\n",
              "    .dataframe tbody tr th {\n",
              "        vertical-align: top;\n",
              "    }\n",
              "\n",
              "    .dataframe thead th {\n",
              "        text-align: right;\n",
              "    }\n",
              "</style>\n",
              "<table border=\"1\" class=\"dataframe\">\n",
              "  <thead>\n",
              "    <tr style=\"text-align: right;\">\n",
              "      <th></th>\n",
              "      <th>Image</th>\n",
              "      <th>Age</th>\n",
              "      <th>Gender</th>\n",
              "    </tr>\n",
              "  </thead>\n",
              "  <tbody>\n",
              "    <tr>\n",
              "      <th>0</th>\n",
              "      <td>[[255, 255, 255, 255, 255, 255, 255, 255, 255,...</td>\n",
              "      <td>61</td>\n",
              "      <td>0</td>\n",
              "    </tr>\n",
              "    <tr>\n",
              "      <th>1</th>\n",
              "      <td>[[153, 174, 196, 206, 207, 205, 206, 206, 206,...</td>\n",
              "      <td>40</td>\n",
              "      <td>0</td>\n",
              "    </tr>\n",
              "    <tr>\n",
              "      <th>2</th>\n",
              "      <td>[[253, 253, 253, 252, 252, 252, 251, 252, 252,...</td>\n",
              "      <td>45</td>\n",
              "      <td>0</td>\n",
              "    </tr>\n",
              "    <tr>\n",
              "      <th>3</th>\n",
              "      <td>[[30, 27, 47, 67, 90, 105, 95, 86, 88, 91, 91,...</td>\n",
              "      <td>41</td>\n",
              "      <td>0</td>\n",
              "    </tr>\n",
              "    <tr>\n",
              "      <th>4</th>\n",
              "      <td>[[177, 177, 177, 178, 178, 178, 179, 179, 181,...</td>\n",
              "      <td>54</td>\n",
              "      <td>0</td>\n",
              "    </tr>\n",
              "  </tbody>\n",
              "</table>\n",
              "</div>"
            ],
            "text/plain": [
              "                                               Image Age Gender\n",
              "0  [[255, 255, 255, 255, 255, 255, 255, 255, 255,...  61      0\n",
              "1  [[153, 174, 196, 206, 207, 205, 206, 206, 206,...  40      0\n",
              "2  [[253, 253, 253, 252, 252, 252, 251, 252, 252,...  45      0\n",
              "3  [[30, 27, 47, 67, 90, 105, 95, 86, 88, 91, 91,...  41      0\n",
              "4  [[177, 177, 177, 178, 178, 178, 179, 179, 181,...  54      0"
            ]
          },
          "metadata": {
            "tags": []
          },
          "execution_count": 39
        }
      ]
    },
    {
      "cell_type": "code",
      "metadata": {
        "id": "44bQeXaEtL4S",
        "colab_type": "code",
        "outputId": "0e394f0d-9c32-454b-fd25-d0a044427c7c",
        "colab": {
          "base_uri": "https://localhost:8080/",
          "height": 204
        }
      },
      "source": [
        "test.head()"
      ],
      "execution_count": 40,
      "outputs": [
        {
          "output_type": "execute_result",
          "data": {
            "text/html": [
              "<div>\n",
              "<style scoped>\n",
              "    .dataframe tbody tr th:only-of-type {\n",
              "        vertical-align: middle;\n",
              "    }\n",
              "\n",
              "    .dataframe tbody tr th {\n",
              "        vertical-align: top;\n",
              "    }\n",
              "\n",
              "    .dataframe thead th {\n",
              "        text-align: right;\n",
              "    }\n",
              "</style>\n",
              "<table border=\"1\" class=\"dataframe\">\n",
              "  <thead>\n",
              "    <tr style=\"text-align: right;\">\n",
              "      <th></th>\n",
              "      <th>Image</th>\n",
              "      <th>Age</th>\n",
              "      <th>Gender</th>\n",
              "    </tr>\n",
              "  </thead>\n",
              "  <tbody>\n",
              "    <tr>\n",
              "      <th>1471</th>\n",
              "      <td>[[94, 94, 94, 94, 94, 94, 94, 94, 94, 94, 94, ...</td>\n",
              "      <td>45</td>\n",
              "      <td>1</td>\n",
              "    </tr>\n",
              "    <tr>\n",
              "      <th>2850</th>\n",
              "      <td>[[145, 145, 145, 145, 145, 145, 145, 145, 145,...</td>\n",
              "      <td>21</td>\n",
              "      <td>0</td>\n",
              "    </tr>\n",
              "    <tr>\n",
              "      <th>118</th>\n",
              "      <td>[[165, 172, 179, 184, 184, 182, 181, 182, 182,...</td>\n",
              "      <td>51</td>\n",
              "      <td>0</td>\n",
              "    </tr>\n",
              "    <tr>\n",
              "      <th>729</th>\n",
              "      <td>[[129, 129, 129, 129, 129, 129, 129, 129, 129,...</td>\n",
              "      <td>26</td>\n",
              "      <td>0</td>\n",
              "    </tr>\n",
              "    <tr>\n",
              "      <th>1903</th>\n",
              "      <td>[[132, 132, 132, 132, 132, 132, 132, 133, 133,...</td>\n",
              "      <td>53</td>\n",
              "      <td>0</td>\n",
              "    </tr>\n",
              "  </tbody>\n",
              "</table>\n",
              "</div>"
            ],
            "text/plain": [
              "                                                  Image Age Gender\n",
              "1471  [[94, 94, 94, 94, 94, 94, 94, 94, 94, 94, 94, ...  45      1\n",
              "2850  [[145, 145, 145, 145, 145, 145, 145, 145, 145,...  21      0\n",
              "118   [[165, 172, 179, 184, 184, 182, 181, 182, 182,...  51      0\n",
              "729   [[129, 129, 129, 129, 129, 129, 129, 129, 129,...  26      0\n",
              "1903  [[132, 132, 132, 132, 132, 132, 132, 133, 133,...  53      0"
            ]
          },
          "metadata": {
            "tags": []
          },
          "execution_count": 40
        }
      ]
    },
    {
      "cell_type": "code",
      "metadata": {
        "id": "ibI4qM9ShSEz",
        "colab_type": "code",
        "colab": {
          "base_uri": "https://localhost:8080/",
          "height": 68
        },
        "outputId": "b58ce556-f3e0-4daf-f1f3-7c06d7b7525a"
      },
      "source": [
        "x = np.array([[np.array([1,2,3]),[1,2,3]]])\n",
        "print (x)\n",
        "x_tf = tf.convert_to_tensor(x)\n",
        "print (type(x_tf))"
      ],
      "execution_count": 85,
      "outputs": [
        {
          "output_type": "stream",
          "text": [
            "[[[1 2 3]\n",
            "  [1 2 3]]]\n",
            "<class 'tensorflow.python.framework.ops.EagerTensor'>\n"
          ],
          "name": "stdout"
        }
      ]
    },
    {
      "cell_type": "code",
      "metadata": {
        "id": "QT-DggedjFbu",
        "colab_type": "code",
        "colab": {
          "base_uri": "https://localhost:8080/",
          "height": 544
        },
        "outputId": "a626bf00-d6e5-4dd6-e5c4-b16705987141"
      },
      "source": [
        "def get_batch(x):\n",
        "  rand_idxs = np.random.choice(train.shape[0], x, True)\n",
        "\n",
        "  x = train.loc[rand_idxs][\"Image\"]\n",
        "  output = np.zeros((x.shape[0],512,512))\n",
        "  for idx in range((x.shape[0])):\n",
        "    output[idx]=x[idx]\n",
        "  #x=np.expand_dims(x, -1)\n",
        "  print(output)\n",
        "  print(output.shape)\n",
        "  for i in x:\n",
        "    tf.convert_to_tensor(i)\n",
        "  y = train.loc[rand_idxs][\"Gender\"]\n",
        "  print (y)\n",
        "  y= tf.convert_to_tensor(y)\n",
        "  print (y)\n",
        "  print (type(y))\n",
        "  return x,y\n",
        "n,m =get_batch(3)\n",
        "print (\"done\")\n",
        "print (n)\n",
        "print (m)"
      ],
      "execution_count": 96,
      "outputs": [
        {
          "output_type": "error",
          "ename": "KeyError",
          "evalue": "ignored",
          "traceback": [
            "\u001b[0;31m---------------------------------------------------------------------------\u001b[0m",
            "\u001b[0;31mKeyError\u001b[0m                                  Traceback (most recent call last)",
            "\u001b[0;32m<ipython-input-96-836009cb3431>\u001b[0m in \u001b[0;36m<module>\u001b[0;34m()\u001b[0m\n\u001b[1;32m     17\u001b[0m   \u001b[0mprint\u001b[0m \u001b[0;34m(\u001b[0m\u001b[0mtype\u001b[0m\u001b[0;34m(\u001b[0m\u001b[0my\u001b[0m\u001b[0;34m)\u001b[0m\u001b[0;34m)\u001b[0m\u001b[0;34m\u001b[0m\u001b[0;34m\u001b[0m\u001b[0m\n\u001b[1;32m     18\u001b[0m   \u001b[0;32mreturn\u001b[0m \u001b[0mx\u001b[0m\u001b[0;34m,\u001b[0m\u001b[0my\u001b[0m\u001b[0;34m\u001b[0m\u001b[0;34m\u001b[0m\u001b[0m\n\u001b[0;32m---> 19\u001b[0;31m \u001b[0mn\u001b[0m\u001b[0;34m,\u001b[0m\u001b[0mm\u001b[0m \u001b[0;34m=\u001b[0m\u001b[0mget_batch\u001b[0m\u001b[0;34m(\u001b[0m\u001b[0;36m3\u001b[0m\u001b[0;34m)\u001b[0m\u001b[0;34m\u001b[0m\u001b[0;34m\u001b[0m\u001b[0m\n\u001b[0m\u001b[1;32m     20\u001b[0m \u001b[0mprint\u001b[0m \u001b[0;34m(\u001b[0m\u001b[0;34m\"done\"\u001b[0m\u001b[0;34m)\u001b[0m\u001b[0;34m\u001b[0m\u001b[0;34m\u001b[0m\u001b[0m\n\u001b[1;32m     21\u001b[0m \u001b[0mprint\u001b[0m \u001b[0;34m(\u001b[0m\u001b[0mn\u001b[0m\u001b[0;34m)\u001b[0m\u001b[0;34m\u001b[0m\u001b[0;34m\u001b[0m\u001b[0m\n",
            "\u001b[0;32m<ipython-input-96-836009cb3431>\u001b[0m in \u001b[0;36mget_batch\u001b[0;34m(x)\u001b[0m\n\u001b[1;32m      5\u001b[0m   \u001b[0moutput\u001b[0m \u001b[0;34m=\u001b[0m \u001b[0mnp\u001b[0m\u001b[0;34m.\u001b[0m\u001b[0mzeros\u001b[0m\u001b[0;34m(\u001b[0m\u001b[0;34m(\u001b[0m\u001b[0mx\u001b[0m\u001b[0;34m.\u001b[0m\u001b[0mshape\u001b[0m\u001b[0;34m[\u001b[0m\u001b[0;36m0\u001b[0m\u001b[0;34m]\u001b[0m\u001b[0;34m,\u001b[0m\u001b[0;36m512\u001b[0m\u001b[0;34m,\u001b[0m\u001b[0;36m512\u001b[0m\u001b[0;34m)\u001b[0m\u001b[0;34m)\u001b[0m\u001b[0;34m\u001b[0m\u001b[0;34m\u001b[0m\u001b[0m\n\u001b[1;32m      6\u001b[0m   \u001b[0;32mfor\u001b[0m \u001b[0midx\u001b[0m \u001b[0;32min\u001b[0m \u001b[0mrange\u001b[0m\u001b[0;34m(\u001b[0m\u001b[0;34m(\u001b[0m\u001b[0mx\u001b[0m\u001b[0;34m.\u001b[0m\u001b[0mshape\u001b[0m\u001b[0;34m[\u001b[0m\u001b[0;36m0\u001b[0m\u001b[0;34m]\u001b[0m\u001b[0;34m)\u001b[0m\u001b[0;34m)\u001b[0m\u001b[0;34m:\u001b[0m\u001b[0;34m\u001b[0m\u001b[0;34m\u001b[0m\u001b[0m\n\u001b[0;32m----> 7\u001b[0;31m     \u001b[0moutput\u001b[0m\u001b[0;34m[\u001b[0m\u001b[0midx\u001b[0m\u001b[0;34m]\u001b[0m\u001b[0;34m=\u001b[0m\u001b[0mx\u001b[0m\u001b[0;34m[\u001b[0m\u001b[0midx\u001b[0m\u001b[0;34m]\u001b[0m\u001b[0;34m\u001b[0m\u001b[0;34m\u001b[0m\u001b[0m\n\u001b[0m\u001b[1;32m      8\u001b[0m   \u001b[0;31m#x=np.expand_dims(x, -1)\u001b[0m\u001b[0;34m\u001b[0m\u001b[0;34m\u001b[0m\u001b[0;34m\u001b[0m\u001b[0m\n\u001b[1;32m      9\u001b[0m   \u001b[0mprint\u001b[0m\u001b[0;34m(\u001b[0m\u001b[0moutput\u001b[0m\u001b[0;34m)\u001b[0m\u001b[0;34m\u001b[0m\u001b[0;34m\u001b[0m\u001b[0m\n",
            "\u001b[0;32m/usr/local/lib/python3.6/dist-packages/pandas/core/series.py\u001b[0m in \u001b[0;36m__getitem__\u001b[0;34m(self, key)\u001b[0m\n\u001b[1;32m    869\u001b[0m         \u001b[0mkey\u001b[0m \u001b[0;34m=\u001b[0m \u001b[0mcom\u001b[0m\u001b[0;34m.\u001b[0m\u001b[0mapply_if_callable\u001b[0m\u001b[0;34m(\u001b[0m\u001b[0mkey\u001b[0m\u001b[0;34m,\u001b[0m \u001b[0mself\u001b[0m\u001b[0;34m)\u001b[0m\u001b[0;34m\u001b[0m\u001b[0;34m\u001b[0m\u001b[0m\n\u001b[1;32m    870\u001b[0m         \u001b[0;32mtry\u001b[0m\u001b[0;34m:\u001b[0m\u001b[0;34m\u001b[0m\u001b[0;34m\u001b[0m\u001b[0m\n\u001b[0;32m--> 871\u001b[0;31m             \u001b[0mresult\u001b[0m \u001b[0;34m=\u001b[0m \u001b[0mself\u001b[0m\u001b[0;34m.\u001b[0m\u001b[0mindex\u001b[0m\u001b[0;34m.\u001b[0m\u001b[0mget_value\u001b[0m\u001b[0;34m(\u001b[0m\u001b[0mself\u001b[0m\u001b[0;34m,\u001b[0m \u001b[0mkey\u001b[0m\u001b[0;34m)\u001b[0m\u001b[0;34m\u001b[0m\u001b[0;34m\u001b[0m\u001b[0m\n\u001b[0m\u001b[1;32m    872\u001b[0m \u001b[0;34m\u001b[0m\u001b[0m\n\u001b[1;32m    873\u001b[0m             \u001b[0;32mif\u001b[0m \u001b[0;32mnot\u001b[0m \u001b[0mis_scalar\u001b[0m\u001b[0;34m(\u001b[0m\u001b[0mresult\u001b[0m\u001b[0;34m)\u001b[0m\u001b[0;34m:\u001b[0m\u001b[0;34m\u001b[0m\u001b[0;34m\u001b[0m\u001b[0m\n",
            "\u001b[0;32m/usr/local/lib/python3.6/dist-packages/pandas/core/indexes/base.py\u001b[0m in \u001b[0;36mget_value\u001b[0;34m(self, series, key)\u001b[0m\n\u001b[1;32m   4402\u001b[0m         \u001b[0mk\u001b[0m \u001b[0;34m=\u001b[0m \u001b[0mself\u001b[0m\u001b[0;34m.\u001b[0m\u001b[0m_convert_scalar_indexer\u001b[0m\u001b[0;34m(\u001b[0m\u001b[0mk\u001b[0m\u001b[0;34m,\u001b[0m \u001b[0mkind\u001b[0m\u001b[0;34m=\u001b[0m\u001b[0;34m\"getitem\"\u001b[0m\u001b[0;34m)\u001b[0m\u001b[0;34m\u001b[0m\u001b[0;34m\u001b[0m\u001b[0m\n\u001b[1;32m   4403\u001b[0m         \u001b[0;32mtry\u001b[0m\u001b[0;34m:\u001b[0m\u001b[0;34m\u001b[0m\u001b[0;34m\u001b[0m\u001b[0m\n\u001b[0;32m-> 4404\u001b[0;31m             \u001b[0;32mreturn\u001b[0m \u001b[0mself\u001b[0m\u001b[0;34m.\u001b[0m\u001b[0m_engine\u001b[0m\u001b[0;34m.\u001b[0m\u001b[0mget_value\u001b[0m\u001b[0;34m(\u001b[0m\u001b[0ms\u001b[0m\u001b[0;34m,\u001b[0m \u001b[0mk\u001b[0m\u001b[0;34m,\u001b[0m \u001b[0mtz\u001b[0m\u001b[0;34m=\u001b[0m\u001b[0mgetattr\u001b[0m\u001b[0;34m(\u001b[0m\u001b[0mseries\u001b[0m\u001b[0;34m.\u001b[0m\u001b[0mdtype\u001b[0m\u001b[0;34m,\u001b[0m \u001b[0;34m\"tz\"\u001b[0m\u001b[0;34m,\u001b[0m \u001b[0;32mNone\u001b[0m\u001b[0;34m)\u001b[0m\u001b[0;34m)\u001b[0m\u001b[0;34m\u001b[0m\u001b[0;34m\u001b[0m\u001b[0m\n\u001b[0m\u001b[1;32m   4405\u001b[0m         \u001b[0;32mexcept\u001b[0m \u001b[0mKeyError\u001b[0m \u001b[0;32mas\u001b[0m \u001b[0me1\u001b[0m\u001b[0;34m:\u001b[0m\u001b[0;34m\u001b[0m\u001b[0;34m\u001b[0m\u001b[0m\n\u001b[1;32m   4406\u001b[0m             \u001b[0;32mif\u001b[0m \u001b[0mlen\u001b[0m\u001b[0;34m(\u001b[0m\u001b[0mself\u001b[0m\u001b[0;34m)\u001b[0m \u001b[0;34m>\u001b[0m \u001b[0;36m0\u001b[0m \u001b[0;32mand\u001b[0m \u001b[0;34m(\u001b[0m\u001b[0mself\u001b[0m\u001b[0;34m.\u001b[0m\u001b[0mholds_integer\u001b[0m\u001b[0;34m(\u001b[0m\u001b[0;34m)\u001b[0m \u001b[0;32mor\u001b[0m \u001b[0mself\u001b[0m\u001b[0;34m.\u001b[0m\u001b[0mis_boolean\u001b[0m\u001b[0;34m(\u001b[0m\u001b[0;34m)\u001b[0m\u001b[0;34m)\u001b[0m\u001b[0;34m:\u001b[0m\u001b[0;34m\u001b[0m\u001b[0;34m\u001b[0m\u001b[0m\n",
            "\u001b[0;32mpandas/_libs/index.pyx\u001b[0m in \u001b[0;36mpandas._libs.index.IndexEngine.get_value\u001b[0;34m()\u001b[0m\n",
            "\u001b[0;32mpandas/_libs/index.pyx\u001b[0m in \u001b[0;36mpandas._libs.index.IndexEngine.get_value\u001b[0;34m()\u001b[0m\n",
            "\u001b[0;32mpandas/_libs/index.pyx\u001b[0m in \u001b[0;36mpandas._libs.index.IndexEngine.get_loc\u001b[0;34m()\u001b[0m\n",
            "\u001b[0;32mpandas/_libs/hashtable_class_helper.pxi\u001b[0m in \u001b[0;36mpandas._libs.hashtable.Int64HashTable.get_item\u001b[0;34m()\u001b[0m\n",
            "\u001b[0;32mpandas/_libs/hashtable_class_helper.pxi\u001b[0m in \u001b[0;36mpandas._libs.hashtable.Int64HashTable.get_item\u001b[0;34m()\u001b[0m\n",
            "\u001b[0;31mKeyError\u001b[0m: 0"
          ]
        }
      ]
    },
    {
      "cell_type": "code",
      "metadata": {
        "id": "xre5EHBRtL4d",
        "colab_type": "code",
        "colab": {}
      },
      "source": [
        "n_filters = 12 \n",
        "\n",
        "def classifier(n_outputs=1):\n",
        "    Conv2D = functools.partial(tf.keras.layers.Conv2D, padding='same', activation='relu')\n",
        "    BatchNormalization = tf.keras.layers.BatchNormalization\n",
        "    Flatten = tf.keras.layers.Flatten\n",
        "    Dense = functools.partial(tf.keras.layers.Dense, activation='relu')\n",
        "\n",
        "    model = tf.keras.Sequential([\n",
        "    Conv2D(filters=1*n_filters, kernel_size=5,  strides=2),\n",
        "    BatchNormalization(),\n",
        "    \n",
        "    Conv2D(filters=2*n_filters, kernel_size=5,  strides=2),\n",
        "    BatchNormalization(),\n",
        "\n",
        "    Conv2D(filters=4*n_filters, kernel_size=3,  strides=2),\n",
        "    BatchNormalization(),\n",
        "\n",
        "    Conv2D(filters=6*n_filters, kernel_size=3,  strides=2),\n",
        "    BatchNormalization(),\n",
        "\n",
        "    Flatten(),\n",
        "    Dense(512),\n",
        "    Dense(n_outputs, activation=None),\n",
        "  ])\n",
        "    return model\n",
        "My_classifier = classifier()"
      ],
      "execution_count": 0,
      "outputs": []
    },
    {
      "cell_type": "code",
      "metadata": {
        "id": "4nnNddbftL4j",
        "colab_type": "code",
        "outputId": "d01c36b3-ad4a-41b9-cba6-96e128782f74",
        "colab": {
          "base_uri": "https://localhost:8080/",
          "height": 1000
        }
      },
      "source": [
        "# Training hyperparameters\n",
        "batch_size = 32\n",
        "num_epochs = 2  # keep small to run faster\n",
        "learning_rate = 5e-4\n",
        "\n",
        "optimizer = tf.keras.optimizers.Adam(learning_rate) # define our optimizer\n",
        "loss_history = mdl.util.LossHistory(smoothing_factor=0.99) # to record loss evolution\n",
        "plotter = mdl.util.PeriodicPlotter(sec=2, scale='semilogy')\n",
        "if hasattr(tqdm, '_instances'): tqdm._instances.clear() # clear if it exists\n",
        "\n",
        "@tf.function\n",
        "def standard_train_step(x, y):\n",
        "    with tf.GradientTape() as tape:\n",
        "    # feed the images into the model\n",
        "        #logits = My_classifier(x)\n",
        "        print (type(x)) \n",
        "  #   # Compute the loss\n",
        "  #       loss = tf.nn.sigmoid_cross_entropy_with_logits(labels=y, logits=logits)\n",
        "\n",
        "  # # Backpropagation\n",
        "  #   grads = tape.gradient(loss, My_classifier.trainable_variables)\n",
        "  #   optimizer.apply_gradients(zip(grads, My_classifier.trainable_variables))\n",
        "  #   return loss\n",
        "    return 0\n",
        "\n",
        "# The training loop!\n",
        "for epoch in range(num_epochs):\n",
        "    for idx in tqdm(range(train.shape[0]//batch_size)):\n",
        "        # Grab a batch of training data and propagate through the network\n",
        "        x, y = get_batch(batch_size)\n",
        "        loss = standard_train_step(x, y)\n",
        "\n",
        "        # # Record the loss and plot the evolution of the loss as a function of training\n",
        "        # loss_history.append(loss.numpy().mean())\n",
        "        # plotter.plot(loss_history.get())"
      ],
      "execution_count": 91,
      "outputs": [
        {
          "output_type": "stream",
          "text": [
            "  0%|          | 0/101 [00:00<?, ?it/s]"
          ],
          "name": "stderr"
        },
        {
          "output_type": "stream",
          "text": [
            "[array([[148, 148, 148, ..., 144, 144, 144],\n",
            "       [148, 148, 148, ..., 144, 144, 144],\n",
            "       [148, 148, 148, ..., 144, 144, 144],\n",
            "       ...,\n",
            "       [129, 129, 129, ..., 126, 126, 126],\n",
            "       [129, 129, 129, ..., 126, 126, 126],\n",
            "       [129, 129, 129, ..., 126, 126, 126]], dtype=uint8)\n",
            " array([[105, 104, 108, ...,  26,  26,  26],\n",
            "       [101,  99, 104, ...,  26,  26,  26],\n",
            "       [ 91,  88,  96, ...,  25,  25,  25],\n",
            "       ...,\n",
            "       [103, 102, 103, ...,   1,   1,   1],\n",
            "       [101,  99, 103, ...,   2,   1,   1],\n",
            "       [ 99,  98, 103, ...,   2,   2,   2]], dtype=uint8)\n",
            " array([[197, 200, 203, ..., 138, 135, 134],\n",
            "       [206, 208, 210, ..., 135, 130, 128],\n",
            "       [219, 220, 220, ..., 129, 122, 118],\n",
            "       ...,\n",
            "       [203, 202, 199, ..., 121, 120, 119],\n",
            "       [197, 196, 194, ..., 127, 126, 125],\n",
            "       [190, 189, 188, ..., 131, 130, 129]], dtype=uint8)\n",
            " array([[160, 159, 143, ..., 152, 166, 166],\n",
            "       [160, 159, 143, ..., 152, 166, 166],\n",
            "       [160, 160, 143, ..., 152, 166, 166],\n",
            "       ...,\n",
            "       [ 45,  44,  43, ..., 212, 219, 219],\n",
            "       [ 47,  47,  46, ..., 212, 219, 219],\n",
            "       [ 48,  48,  47, ..., 212, 219, 220]], dtype=uint8)\n",
            " array([[172, 172, 172, ..., 164, 164, 164],\n",
            "       [172, 172, 172, ..., 164, 164, 164],\n",
            "       [172, 172, 172, ..., 164, 164, 164],\n",
            "       ...,\n",
            "       [ 10,  10,  10, ...,   9,   9,   9],\n",
            "       [ 11,  11,  10, ...,   9,   9,   9],\n",
            "       [ 11,  11,  10, ...,   9,   9,   9]], dtype=uint8)\n",
            " array([[40, 29, 45, ..., 34, 14, 28],\n",
            "       [37, 27, 42, ..., 30, 12, 25],\n",
            "       [53, 41, 58, ..., 53, 31, 46],\n",
            "       ...,\n",
            "       [58, 45, 64, ..., 61, 41, 55],\n",
            "       [31, 20, 36, ..., 35, 17, 30],\n",
            "       [35, 23, 40, ..., 39, 21, 33]], dtype=uint8)\n",
            " array([[199, 199, 199, ..., 208, 208, 207],\n",
            "       [199, 199, 199, ..., 208, 208, 207],\n",
            "       [199, 199, 199, ..., 208, 208, 207],\n",
            "       ...,\n",
            "       [197, 196, 196, ...,  20,  22,  23],\n",
            "       [195, 194, 193, ...,  21,  22,  23],\n",
            "       [195, 193, 191, ...,  22,  23,  24]], dtype=uint8)\n",
            " array([[145, 145, 145, ...,  54,  54,  54],\n",
            "       [145, 145, 145, ...,  54,  54,  54],\n",
            "       [145, 145, 145, ...,  55,  55,  55],\n",
            "       ...,\n",
            "       [168, 168, 168, ..., 177, 177, 177],\n",
            "       [170, 170, 170, ..., 177, 177, 177],\n",
            "       [169, 169, 169, ..., 177, 178, 179]], dtype=uint8)\n",
            " array([[ 80,  80,  79, ...,  77,  77,  77],\n",
            "       [ 80,  80,  80, ...,  76,  75,  75],\n",
            "       [ 79,  80,  79, ...,  78,  78,  78],\n",
            "       ...,\n",
            "       [ 48,  46,  52, ..., 154, 155, 155],\n",
            "       [ 47,  45,  52, ..., 155, 156, 155],\n",
            "       [ 48,  46,  52, ..., 155, 155, 155]], dtype=uint8)\n",
            " array([[253, 253, 253, ..., 249, 249, 249],\n",
            "       [253, 253, 253, ..., 249, 249, 249],\n",
            "       [253, 253, 253, ..., 249, 249, 249],\n",
            "       ...,\n",
            "       [188, 191, 195, ..., 185, 188, 190],\n",
            "       [212, 214, 219, ..., 205, 206, 207],\n",
            "       [238, 239, 242, ..., 223, 220, 218]], dtype=uint8)\n",
            " array([[ 75,  74,  72, ...,  45,  45,  45],\n",
            "       [ 81,  80,  77, ...,  45,  45,  45],\n",
            "       [ 95,  93,  89, ...,  45,  45,  45],\n",
            "       ...,\n",
            "       [ 33,  33,  32, ..., 144, 143, 143],\n",
            "       [ 34,  34,  33, ..., 144, 143, 143],\n",
            "       [ 34,  34,  33, ..., 144, 143, 143]], dtype=uint8)\n",
            " array([[247, 247, 247, ..., 122, 120, 120],\n",
            "       [247, 247, 247, ..., 122, 120, 120],\n",
            "       [247, 247, 247, ..., 123, 121, 120],\n",
            "       ...,\n",
            "       [252, 252, 252, ..., 253, 253, 253],\n",
            "       [253, 253, 253, ..., 254, 253, 253],\n",
            "       [254, 254, 254, ..., 254, 254, 254]], dtype=uint8)\n",
            " array([[235, 223, 207, ..., 115, 111, 107],\n",
            "       [237, 233, 225, ..., 114, 111, 107],\n",
            "       [242, 245, 245, ..., 117, 106, 102],\n",
            "       ...,\n",
            "       [228, 228, 228, ..., 129, 129, 129],\n",
            "       [229, 229, 229, ..., 125, 124, 125],\n",
            "       [229, 229, 229, ..., 122, 122, 122]], dtype=uint8)\n",
            " array([[195, 202, 186, ..., 233, 239, 236],\n",
            "       [195, 202, 186, ..., 234, 239, 237],\n",
            "       [196, 203, 187, ..., 236, 242, 239],\n",
            "       ...,\n",
            "       [255, 255, 255, ..., 255, 255, 255],\n",
            "       [255, 255, 255, ..., 255, 255, 255],\n",
            "       [255, 255, 255, ..., 255, 255, 255]], dtype=uint8)\n",
            " array([[251, 251, 251, ..., 253, 253, 253],\n",
            "       [251, 251, 251, ..., 252, 252, 252],\n",
            "       [251, 251, 251, ..., 249, 249, 249],\n",
            "       ...,\n",
            "       [254, 255, 253, ..., 244, 244, 244],\n",
            "       [254, 254, 254, ..., 247, 247, 247],\n",
            "       [254, 254, 254, ..., 248, 248, 248]], dtype=uint8)\n",
            " array([[79, 78, 79, ..., 73, 73, 73],\n",
            "       [79, 79, 79, ..., 73, 73, 73],\n",
            "       [74, 74, 75, ..., 72, 72, 72],\n",
            "       ...,\n",
            "       [52, 55, 51, ..., 21, 17, 20],\n",
            "       [46, 47, 45, ..., 13, 12, 13],\n",
            "       [47, 48, 46, ..., 14, 13, 14]], dtype=uint8)\n",
            " array([[ 89,  89,  89, ...,  89,  89,  89],\n",
            "       [ 89,  89,  89, ...,  89,  89,  89],\n",
            "       [ 89,  89,  89, ...,  89,  89,  89],\n",
            "       ...,\n",
            "       [219, 219, 219, ..., 229, 229, 229],\n",
            "       [219, 219, 219, ..., 229, 229, 229],\n",
            "       [219, 219, 219, ..., 229, 229, 229]], dtype=uint8)\n",
            " array([[77, 78, 79, ..., 81, 81, 81],\n",
            "       [77, 78, 79, ..., 81, 81, 81],\n",
            "       [77, 78, 79, ..., 81, 81, 81],\n",
            "       ...,\n",
            "       [75, 78, 84, ..., 94, 94, 95],\n",
            "       [75, 78, 84, ..., 94, 94, 95],\n",
            "       [75, 78, 84, ..., 94, 94, 95]], dtype=uint8)\n",
            " array([[191, 191, 191, ..., 251, 251, 251],\n",
            "       [191, 191, 191, ..., 251, 251, 251],\n",
            "       [192, 192, 192, ..., 251, 251, 251],\n",
            "       ...,\n",
            "       [ 65,  65,  65, ...,  41,  41,  41],\n",
            "       [ 65,  65,  65, ...,  42,  42,  42],\n",
            "       [ 65,  65,  65, ...,  42,  42,  42]], dtype=uint8)\n",
            " array([[219, 219, 219, ..., 217, 221, 222],\n",
            "       [189, 189, 189, ..., 190, 194, 195],\n",
            "       [142, 142, 142, ..., 153, 156, 158],\n",
            "       ...,\n",
            "       [238, 237, 237, ..., 185, 168, 163],\n",
            "       [243, 243, 242, ..., 209, 198, 194],\n",
            "       [247, 247, 246, ..., 222, 217, 215]], dtype=uint8)\n",
            " array([[ 75,  75,  75, ..., 133, 133, 133],\n",
            "       [ 75,  75,  75, ..., 130, 130, 130],\n",
            "       [ 75,  75,  75, ..., 124, 124, 124],\n",
            "       ...,\n",
            "       [239, 239, 239, ..., 219, 208, 206],\n",
            "       [239, 239, 239, ..., 217, 208, 206],\n",
            "       [239, 239, 239, ..., 216, 208, 206]], dtype=uint8)\n",
            " array([[160, 158, 155, ...,  29,  28,  28],\n",
            "       [160, 158, 155, ...,  28,  27,  27],\n",
            "       [159, 157, 153, ...,  26,  25,  25],\n",
            "       ...,\n",
            "       [ 45,  43,  41, ...,  13,  14,  14],\n",
            "       [ 46,  44,  41, ...,  13,  14,  14],\n",
            "       [ 46,  44,  40, ...,  13,  14,  14]], dtype=uint8)\n",
            " array([[215, 215, 215, ..., 219, 219, 219],\n",
            "       [222, 222, 222, ..., 222, 222, 222],\n",
            "       [231, 231, 231, ..., 228, 228, 228],\n",
            "       ...,\n",
            "       [132, 132, 132, ...,  49,  43,  43],\n",
            "       [132, 132, 131, ...,  48,  43,  43],\n",
            "       [132, 132, 131, ...,  47,  42,  42]], dtype=uint8)\n",
            " array([[248, 248, 249, ..., 252, 252, 252],\n",
            "       [249, 249, 249, ..., 252, 252, 252],\n",
            "       [249, 249, 249, ..., 252, 252, 252],\n",
            "       ...,\n",
            "       [251, 251, 250, ..., 253, 253, 253],\n",
            "       [252, 252, 251, ..., 253, 253, 253],\n",
            "       [253, 253, 253, ..., 253, 253, 253]], dtype=uint8)\n",
            " array([[230, 230, 230, ..., 136, 134, 131],\n",
            "       [230, 230, 230, ..., 133, 130, 128],\n",
            "       [230, 230, 230, ..., 129, 127, 125],\n",
            "       ...,\n",
            "       [ 67,  67,  67, ...,  48,  51,  54],\n",
            "       [ 67,  66,  66, ...,  51,  54,  56],\n",
            "       [ 67,  66,  66, ...,  53,  56,  58]], dtype=uint8)\n",
            " array([[177, 177, 177, ..., 209, 209, 209],\n",
            "       [177, 177, 177, ..., 209, 209, 209],\n",
            "       [177, 177, 177, ..., 209, 209, 209],\n",
            "       ...,\n",
            "       [146, 149, 146, ...,  68,  68,  68],\n",
            "       [145, 148, 146, ...,  68,  68,  68],\n",
            "       [145, 149, 146, ...,  68,  68,  68]], dtype=uint8)\n",
            " array([[ 75,  75,  74, ...,  82,  82,  82],\n",
            "       [ 98,  98,  98, ..., 104, 104, 104],\n",
            "       [138, 138, 138, ..., 140, 140, 140],\n",
            "       ...,\n",
            "       [ 15,  15,  15, ...,  14,  14,  14],\n",
            "       [ 21,  21,  21, ...,  20,  20,  20],\n",
            "       [ 24,  24,  24, ...,  23,  23,  23]], dtype=uint8)\n",
            " array([[ 20,  20,  20, ...,  48,  50,  51],\n",
            "       [ 20,  20,  20, ...,  48,  50,  51],\n",
            "       [ 20,  20,  20, ...,  48,  50,  51],\n",
            "       ...,\n",
            "       [ 24,  24,  25, ..., 126, 124, 124],\n",
            "       [ 24,  24,  25, ..., 125, 123, 123],\n",
            "       [ 24,  25,  25, ..., 124, 123, 123]], dtype=uint8)\n",
            " array([[159, 163, 165, ..., 158, 158, 158],\n",
            "       [158, 162, 164, ..., 158, 158, 158],\n",
            "       [157, 161, 163, ..., 158, 158, 158],\n",
            "       ...,\n",
            "       [167, 164, 158, ..., 208, 209, 209],\n",
            "       [166, 164, 157, ..., 206, 207, 207],\n",
            "       [164, 163, 157, ..., 204, 205, 205]], dtype=uint8)\n",
            " array([[  3,   2,   4, ..., 192, 197, 195],\n",
            "       [  3,   2,   4, ..., 192, 197, 195],\n",
            "       [  3,   2,   4, ..., 193, 198, 195],\n",
            "       ...,\n",
            "       [  2,   2,   2, ...,  99, 101, 100],\n",
            "       [  2,   2,   2, ...,  97,  98,  98],\n",
            "       [  2,   2,   2, ...,  97,  98,  97]], dtype=uint8)\n",
            " array([[208, 208, 208, ..., 114, 114, 112],\n",
            "       [208, 208, 208, ..., 114, 114, 112],\n",
            "       [208, 208, 208, ..., 115, 116, 114],\n",
            "       ...,\n",
            "       [225, 225, 225, ...,  47,  47,  47],\n",
            "       [225, 225, 225, ...,  47,  47,  47],\n",
            "       [225, 225, 225, ...,  47,  47,  47]], dtype=uint8)\n",
            " array([[43, 43, 43, ..., 57, 63, 69],\n",
            "       [43, 43, 43, ..., 56, 63, 69],\n",
            "       [43, 43, 43, ..., 55, 62, 69],\n",
            "       ...,\n",
            "       [21, 21, 21, ..., 29, 29, 28],\n",
            "       [21, 21, 21, ..., 26, 26, 26],\n",
            "       [21, 21, 21, ..., 23, 24, 25]], dtype=uint8)]\n",
            "(32,)\n",
            "1799    0\n",
            "830     1\n",
            "1388    0\n",
            "827     1\n",
            "1111    0\n",
            "1986    0\n",
            "1026    0\n",
            "2798    0\n",
            "716     1\n",
            "2992    0\n",
            "779     0\n",
            "1625    0\n",
            "2700    0\n",
            "727     0\n",
            "658     1\n",
            "629     0\n",
            "1779    0\n",
            "3077    0\n",
            "986     0\n",
            "9       0\n",
            "1843    0\n",
            "2089    0\n",
            "797     0\n",
            "2434    0\n",
            "2725    0\n",
            "1107    0\n",
            "710     1\n",
            "2304    1\n",
            "2985    0\n",
            "717     0\n",
            "3028    1\n",
            "1744    0\n",
            "Name: Gender, dtype: object\n",
            "tf.Tensor(\n",
            "[b'0' b'1' b'0' b'1' b'0' b'0' b'0' b'0' b'1' b'0' b'0' b'0' b'0' b'0'\n",
            " b'1' b'0' b'0' b'0' b'0' b'0' b'0' b'0' b'0' b'0' b'0' b'0' b'1' b'1'\n",
            " b'0' b'0' b'1' b'0'], shape=(32,), dtype=string)\n",
            "<class 'tensorflow.python.framework.ops.EagerTensor'>\n"
          ],
          "name": "stdout"
        },
        {
          "output_type": "stream",
          "text": [
            "\n"
          ],
          "name": "stderr"
        },
        {
          "output_type": "error",
          "ename": "ValueError",
          "evalue": "ignored",
          "traceback": [
            "\u001b[0;31m---------------------------------------------------------------------------\u001b[0m",
            "\u001b[0;31mValueError\u001b[0m                                Traceback (most recent call last)",
            "\u001b[0;32m<ipython-input-91-ac45c73fd6b4>\u001b[0m in \u001b[0;36m<module>\u001b[0;34m()\u001b[0m\n\u001b[1;32m     29\u001b[0m         \u001b[0;31m# Grab a batch of training data and propagate through the network\u001b[0m\u001b[0;34m\u001b[0m\u001b[0;34m\u001b[0m\u001b[0;34m\u001b[0m\u001b[0m\n\u001b[1;32m     30\u001b[0m         \u001b[0mx\u001b[0m\u001b[0;34m,\u001b[0m \u001b[0my\u001b[0m \u001b[0;34m=\u001b[0m \u001b[0mget_batch\u001b[0m\u001b[0;34m(\u001b[0m\u001b[0mbatch_size\u001b[0m\u001b[0;34m)\u001b[0m\u001b[0;34m\u001b[0m\u001b[0;34m\u001b[0m\u001b[0m\n\u001b[0;32m---> 31\u001b[0;31m         \u001b[0mloss\u001b[0m \u001b[0;34m=\u001b[0m \u001b[0mstandard_train_step\u001b[0m\u001b[0;34m(\u001b[0m\u001b[0mx\u001b[0m\u001b[0;34m,\u001b[0m \u001b[0my\u001b[0m\u001b[0;34m)\u001b[0m\u001b[0;34m\u001b[0m\u001b[0;34m\u001b[0m\u001b[0m\n\u001b[0m\u001b[1;32m     32\u001b[0m \u001b[0;34m\u001b[0m\u001b[0m\n\u001b[1;32m     33\u001b[0m         \u001b[0;31m# # Record the loss and plot the evolution of the loss as a function of training\u001b[0m\u001b[0;34m\u001b[0m\u001b[0;34m\u001b[0m\u001b[0;34m\u001b[0m\u001b[0m\n",
            "\u001b[0;32m/usr/local/lib/python3.6/dist-packages/tensorflow/python/eager/def_function.py\u001b[0m in \u001b[0;36m__call__\u001b[0;34m(self, *args, **kwds)\u001b[0m\n\u001b[1;32m    764\u001b[0m       \u001b[0;32melse\u001b[0m\u001b[0;34m:\u001b[0m\u001b[0;34m\u001b[0m\u001b[0;34m\u001b[0m\u001b[0m\n\u001b[1;32m    765\u001b[0m         \u001b[0mcompiler\u001b[0m \u001b[0;34m=\u001b[0m \u001b[0;34m\"nonXla\"\u001b[0m\u001b[0;34m\u001b[0m\u001b[0;34m\u001b[0m\u001b[0m\n\u001b[0;32m--> 766\u001b[0;31m         \u001b[0mresult\u001b[0m \u001b[0;34m=\u001b[0m \u001b[0mself\u001b[0m\u001b[0;34m.\u001b[0m\u001b[0m_call\u001b[0m\u001b[0;34m(\u001b[0m\u001b[0;34m*\u001b[0m\u001b[0margs\u001b[0m\u001b[0;34m,\u001b[0m \u001b[0;34m**\u001b[0m\u001b[0mkwds\u001b[0m\u001b[0;34m)\u001b[0m\u001b[0;34m\u001b[0m\u001b[0;34m\u001b[0m\u001b[0m\n\u001b[0m\u001b[1;32m    767\u001b[0m \u001b[0;34m\u001b[0m\u001b[0m\n\u001b[1;32m    768\u001b[0m       \u001b[0mnew_tracing_count\u001b[0m \u001b[0;34m=\u001b[0m \u001b[0mself\u001b[0m\u001b[0;34m.\u001b[0m\u001b[0m_get_tracing_count\u001b[0m\u001b[0;34m(\u001b[0m\u001b[0;34m)\u001b[0m\u001b[0;34m\u001b[0m\u001b[0;34m\u001b[0m\u001b[0m\n",
            "\u001b[0;32m/usr/local/lib/python3.6/dist-packages/tensorflow/python/eager/def_function.py\u001b[0m in \u001b[0;36m_call\u001b[0;34m(self, *args, **kwds)\u001b[0m\n\u001b[1;32m    807\u001b[0m       \u001b[0;31m# This is the first call of __call__, so we have to initialize.\u001b[0m\u001b[0;34m\u001b[0m\u001b[0;34m\u001b[0m\u001b[0;34m\u001b[0m\u001b[0m\n\u001b[1;32m    808\u001b[0m       \u001b[0minitializers\u001b[0m \u001b[0;34m=\u001b[0m \u001b[0;34m[\u001b[0m\u001b[0;34m]\u001b[0m\u001b[0;34m\u001b[0m\u001b[0;34m\u001b[0m\u001b[0m\n\u001b[0;32m--> 809\u001b[0;31m       \u001b[0mself\u001b[0m\u001b[0;34m.\u001b[0m\u001b[0m_initialize\u001b[0m\u001b[0;34m(\u001b[0m\u001b[0margs\u001b[0m\u001b[0;34m,\u001b[0m \u001b[0mkwds\u001b[0m\u001b[0;34m,\u001b[0m \u001b[0madd_initializers_to\u001b[0m\u001b[0;34m=\u001b[0m\u001b[0minitializers\u001b[0m\u001b[0;34m)\u001b[0m\u001b[0;34m\u001b[0m\u001b[0;34m\u001b[0m\u001b[0m\n\u001b[0m\u001b[1;32m    810\u001b[0m     \u001b[0;32mfinally\u001b[0m\u001b[0;34m:\u001b[0m\u001b[0;34m\u001b[0m\u001b[0;34m\u001b[0m\u001b[0m\n\u001b[1;32m    811\u001b[0m       \u001b[0;31m# At this point we know that the initialization is complete (or less\u001b[0m\u001b[0;34m\u001b[0m\u001b[0;34m\u001b[0m\u001b[0;34m\u001b[0m\u001b[0m\n",
            "\u001b[0;32m/usr/local/lib/python3.6/dist-packages/tensorflow/python/eager/def_function.py\u001b[0m in \u001b[0;36m_initialize\u001b[0;34m(self, args, kwds, add_initializers_to)\u001b[0m\n\u001b[1;32m    686\u001b[0m     self._concrete_stateful_fn = (\n\u001b[1;32m    687\u001b[0m         self._stateful_fn._get_concrete_function_internal_garbage_collected(  # pylint: disable=protected-access\n\u001b[0;32m--> 688\u001b[0;31m             *args, **kwds))\n\u001b[0m\u001b[1;32m    689\u001b[0m \u001b[0;34m\u001b[0m\u001b[0m\n\u001b[1;32m    690\u001b[0m     \u001b[0;32mdef\u001b[0m \u001b[0minvalid_creator_scope\u001b[0m\u001b[0;34m(\u001b[0m\u001b[0;34m*\u001b[0m\u001b[0munused_args\u001b[0m\u001b[0;34m,\u001b[0m \u001b[0;34m**\u001b[0m\u001b[0munused_kwds\u001b[0m\u001b[0;34m)\u001b[0m\u001b[0;34m:\u001b[0m\u001b[0;34m\u001b[0m\u001b[0;34m\u001b[0m\u001b[0m\n",
            "\u001b[0;32m/usr/local/lib/python3.6/dist-packages/tensorflow/python/eager/function.py\u001b[0m in \u001b[0;36m_get_concrete_function_internal_garbage_collected\u001b[0;34m(self, *args, **kwargs)\u001b[0m\n\u001b[1;32m   2835\u001b[0m       \u001b[0margs\u001b[0m\u001b[0;34m,\u001b[0m \u001b[0mkwargs\u001b[0m \u001b[0;34m=\u001b[0m \u001b[0;32mNone\u001b[0m\u001b[0;34m,\u001b[0m \u001b[0;32mNone\u001b[0m\u001b[0;34m\u001b[0m\u001b[0;34m\u001b[0m\u001b[0m\n\u001b[1;32m   2836\u001b[0m     \u001b[0;32mwith\u001b[0m \u001b[0mself\u001b[0m\u001b[0;34m.\u001b[0m\u001b[0m_lock\u001b[0m\u001b[0;34m:\u001b[0m\u001b[0;34m\u001b[0m\u001b[0;34m\u001b[0m\u001b[0m\n\u001b[0;32m-> 2837\u001b[0;31m       \u001b[0mgraph_function\u001b[0m\u001b[0;34m,\u001b[0m \u001b[0m_\u001b[0m\u001b[0;34m,\u001b[0m \u001b[0m_\u001b[0m \u001b[0;34m=\u001b[0m \u001b[0mself\u001b[0m\u001b[0;34m.\u001b[0m\u001b[0m_maybe_define_function\u001b[0m\u001b[0;34m(\u001b[0m\u001b[0margs\u001b[0m\u001b[0;34m,\u001b[0m \u001b[0mkwargs\u001b[0m\u001b[0;34m)\u001b[0m\u001b[0;34m\u001b[0m\u001b[0;34m\u001b[0m\u001b[0m\n\u001b[0m\u001b[1;32m   2838\u001b[0m     \u001b[0;32mreturn\u001b[0m \u001b[0mgraph_function\u001b[0m\u001b[0;34m\u001b[0m\u001b[0;34m\u001b[0m\u001b[0m\n\u001b[1;32m   2839\u001b[0m \u001b[0;34m\u001b[0m\u001b[0m\n",
            "\u001b[0;32m/usr/local/lib/python3.6/dist-packages/tensorflow/python/eager/function.py\u001b[0m in \u001b[0;36m_maybe_define_function\u001b[0;34m(self, args, kwargs)\u001b[0m\n\u001b[1;32m   3150\u001b[0m     \u001b[0;32mif\u001b[0m \u001b[0mself\u001b[0m\u001b[0;34m.\u001b[0m\u001b[0minput_signature\u001b[0m \u001b[0;32mis\u001b[0m \u001b[0;32mNone\u001b[0m \u001b[0;32mor\u001b[0m \u001b[0margs\u001b[0m \u001b[0;32mis\u001b[0m \u001b[0;32mnot\u001b[0m \u001b[0;32mNone\u001b[0m \u001b[0;32mor\u001b[0m \u001b[0mkwargs\u001b[0m \u001b[0;32mis\u001b[0m \u001b[0;32mnot\u001b[0m \u001b[0;32mNone\u001b[0m\u001b[0;34m:\u001b[0m\u001b[0;34m\u001b[0m\u001b[0;34m\u001b[0m\u001b[0m\n\u001b[1;32m   3151\u001b[0m       args, kwargs = self._function_spec.canonicalize_function_inputs(\n\u001b[0;32m-> 3152\u001b[0;31m           *args, **kwargs)\n\u001b[0m\u001b[1;32m   3153\u001b[0m \u001b[0;34m\u001b[0m\u001b[0m\n\u001b[1;32m   3154\u001b[0m     \u001b[0mcache_key\u001b[0m \u001b[0;34m=\u001b[0m \u001b[0mself\u001b[0m\u001b[0;34m.\u001b[0m\u001b[0m_cache_key\u001b[0m\u001b[0;34m(\u001b[0m\u001b[0margs\u001b[0m\u001b[0;34m,\u001b[0m \u001b[0mkwargs\u001b[0m\u001b[0;34m)\u001b[0m\u001b[0;34m\u001b[0m\u001b[0;34m\u001b[0m\u001b[0m\n",
            "\u001b[0;32m/usr/local/lib/python3.6/dist-packages/tensorflow/python/eager/function.py\u001b[0m in \u001b[0;36mcanonicalize_function_inputs\u001b[0;34m(self, *args, **kwargs)\u001b[0m\n\u001b[1;32m   2596\u001b[0m \u001b[0;34m\u001b[0m\u001b[0m\n\u001b[1;32m   2597\u001b[0m     \u001b[0;32mif\u001b[0m \u001b[0mself\u001b[0m\u001b[0;34m.\u001b[0m\u001b[0m_input_signature\u001b[0m \u001b[0;32mis\u001b[0m \u001b[0;32mNone\u001b[0m\u001b[0;34m:\u001b[0m\u001b[0;34m\u001b[0m\u001b[0;34m\u001b[0m\u001b[0m\n\u001b[0;32m-> 2598\u001b[0;31m       \u001b[0minputs\u001b[0m \u001b[0;34m=\u001b[0m \u001b[0m_convert_numpy_inputs\u001b[0m\u001b[0;34m(\u001b[0m\u001b[0minputs\u001b[0m\u001b[0;34m)\u001b[0m\u001b[0;34m\u001b[0m\u001b[0;34m\u001b[0m\u001b[0m\n\u001b[0m\u001b[1;32m   2599\u001b[0m       \u001b[0mkwargs\u001b[0m \u001b[0;34m=\u001b[0m \u001b[0m_convert_numpy_inputs\u001b[0m\u001b[0;34m(\u001b[0m\u001b[0mkwargs\u001b[0m\u001b[0;34m)\u001b[0m\u001b[0;34m\u001b[0m\u001b[0;34m\u001b[0m\u001b[0m\n\u001b[1;32m   2600\u001b[0m       \u001b[0;32mreturn\u001b[0m \u001b[0minputs\u001b[0m\u001b[0;34m,\u001b[0m \u001b[0mkwargs\u001b[0m\u001b[0;34m\u001b[0m\u001b[0;34m\u001b[0m\u001b[0m\n",
            "\u001b[0;32m/usr/local/lib/python3.6/dist-packages/tensorflow/python/eager/function.py\u001b[0m in \u001b[0;36m_convert_numpy_inputs\u001b[0;34m(inputs)\u001b[0m\n\u001b[1;32m   2643\u001b[0m         raise TypeError(\"The output of __array__ must be an np.ndarray \"\n\u001b[1;32m   2644\u001b[0m                         \"(got {} from {}).\".format(type(a), type(value)))\n\u001b[0;32m-> 2645\u001b[0;31m       \u001b[0mflat_inputs\u001b[0m\u001b[0;34m[\u001b[0m\u001b[0mindex\u001b[0m\u001b[0;34m]\u001b[0m \u001b[0;34m=\u001b[0m \u001b[0mconstant_op\u001b[0m\u001b[0;34m.\u001b[0m\u001b[0mconstant\u001b[0m\u001b[0;34m(\u001b[0m\u001b[0ma\u001b[0m\u001b[0;34m)\u001b[0m\u001b[0;34m\u001b[0m\u001b[0;34m\u001b[0m\u001b[0m\n\u001b[0m\u001b[1;32m   2646\u001b[0m       \u001b[0mneed_packing\u001b[0m \u001b[0;34m=\u001b[0m \u001b[0;32mTrue\u001b[0m\u001b[0;34m\u001b[0m\u001b[0;34m\u001b[0m\u001b[0m\n\u001b[1;32m   2647\u001b[0m   \u001b[0;32mif\u001b[0m \u001b[0mneed_packing\u001b[0m\u001b[0;34m:\u001b[0m\u001b[0;34m\u001b[0m\u001b[0;34m\u001b[0m\u001b[0m\n",
            "\u001b[0;32m/usr/local/lib/python3.6/dist-packages/tensorflow/python/framework/constant_op.py\u001b[0m in \u001b[0;36mconstant\u001b[0;34m(value, dtype, shape, name)\u001b[0m\n\u001b[1;32m    261\u001b[0m   \"\"\"\n\u001b[1;32m    262\u001b[0m   return _constant_impl(value, dtype, shape, name, verify_shape=False,\n\u001b[0;32m--> 263\u001b[0;31m                         allow_broadcast=True)\n\u001b[0m\u001b[1;32m    264\u001b[0m \u001b[0;34m\u001b[0m\u001b[0m\n\u001b[1;32m    265\u001b[0m \u001b[0;34m\u001b[0m\u001b[0m\n",
            "\u001b[0;32m/usr/local/lib/python3.6/dist-packages/tensorflow/python/framework/constant_op.py\u001b[0m in \u001b[0;36m_constant_impl\u001b[0;34m(value, dtype, shape, name, verify_shape, allow_broadcast)\u001b[0m\n\u001b[1;32m    269\u001b[0m   \u001b[0mctx\u001b[0m \u001b[0;34m=\u001b[0m \u001b[0mcontext\u001b[0m\u001b[0;34m.\u001b[0m\u001b[0mcontext\u001b[0m\u001b[0;34m(\u001b[0m\u001b[0;34m)\u001b[0m\u001b[0;34m\u001b[0m\u001b[0;34m\u001b[0m\u001b[0m\n\u001b[1;32m    270\u001b[0m   \u001b[0;32mif\u001b[0m \u001b[0mctx\u001b[0m\u001b[0;34m.\u001b[0m\u001b[0mexecuting_eagerly\u001b[0m\u001b[0;34m(\u001b[0m\u001b[0;34m)\u001b[0m\u001b[0;34m:\u001b[0m\u001b[0;34m\u001b[0m\u001b[0;34m\u001b[0m\u001b[0m\n\u001b[0;32m--> 271\u001b[0;31m     \u001b[0mt\u001b[0m \u001b[0;34m=\u001b[0m \u001b[0mconvert_to_eager_tensor\u001b[0m\u001b[0;34m(\u001b[0m\u001b[0mvalue\u001b[0m\u001b[0;34m,\u001b[0m \u001b[0mctx\u001b[0m\u001b[0;34m,\u001b[0m \u001b[0mdtype\u001b[0m\u001b[0;34m)\u001b[0m\u001b[0;34m\u001b[0m\u001b[0;34m\u001b[0m\u001b[0m\n\u001b[0m\u001b[1;32m    272\u001b[0m     \u001b[0;32mif\u001b[0m \u001b[0mshape\u001b[0m \u001b[0;32mis\u001b[0m \u001b[0;32mNone\u001b[0m\u001b[0;34m:\u001b[0m\u001b[0;34m\u001b[0m\u001b[0;34m\u001b[0m\u001b[0m\n\u001b[1;32m    273\u001b[0m       \u001b[0;32mreturn\u001b[0m \u001b[0mt\u001b[0m\u001b[0;34m\u001b[0m\u001b[0;34m\u001b[0m\u001b[0m\n",
            "\u001b[0;32m/usr/local/lib/python3.6/dist-packages/tensorflow/python/framework/constant_op.py\u001b[0m in \u001b[0;36mconvert_to_eager_tensor\u001b[0;34m(value, ctx, dtype)\u001b[0m\n\u001b[1;32m     95\u001b[0m       \u001b[0mdtype\u001b[0m \u001b[0;34m=\u001b[0m \u001b[0mdtypes\u001b[0m\u001b[0;34m.\u001b[0m\u001b[0mas_dtype\u001b[0m\u001b[0;34m(\u001b[0m\u001b[0mdtype\u001b[0m\u001b[0;34m)\u001b[0m\u001b[0;34m.\u001b[0m\u001b[0mas_datatype_enum\u001b[0m\u001b[0;34m\u001b[0m\u001b[0;34m\u001b[0m\u001b[0m\n\u001b[1;32m     96\u001b[0m   \u001b[0mctx\u001b[0m\u001b[0;34m.\u001b[0m\u001b[0mensure_initialized\u001b[0m\u001b[0;34m(\u001b[0m\u001b[0;34m)\u001b[0m\u001b[0;34m\u001b[0m\u001b[0;34m\u001b[0m\u001b[0m\n\u001b[0;32m---> 97\u001b[0;31m   \u001b[0;32mreturn\u001b[0m \u001b[0mops\u001b[0m\u001b[0;34m.\u001b[0m\u001b[0mEagerTensor\u001b[0m\u001b[0;34m(\u001b[0m\u001b[0mvalue\u001b[0m\u001b[0;34m,\u001b[0m \u001b[0mctx\u001b[0m\u001b[0;34m.\u001b[0m\u001b[0mdevice_name\u001b[0m\u001b[0;34m,\u001b[0m \u001b[0mdtype\u001b[0m\u001b[0;34m)\u001b[0m\u001b[0;34m\u001b[0m\u001b[0;34m\u001b[0m\u001b[0m\n\u001b[0m\u001b[1;32m     98\u001b[0m \u001b[0;34m\u001b[0m\u001b[0m\n\u001b[1;32m     99\u001b[0m \u001b[0;34m\u001b[0m\u001b[0m\n",
            "\u001b[0;31mValueError\u001b[0m: Failed to convert a NumPy array to a Tensor (Unsupported object type numpy.ndarray)."
          ]
        }
      ]
    },
    {
      "cell_type": "code",
      "metadata": {
        "id": "oOoUH6lctL4m",
        "colab_type": "code",
        "colab": {}
      },
      "source": [
        ""
      ],
      "execution_count": 0,
      "outputs": []
    }
  ]
}