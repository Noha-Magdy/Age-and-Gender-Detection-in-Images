{
  "nbformat": 4,
  "nbformat_minor": 0,
  "metadata": {
    "kernelspec": {
      "display_name": "Python 3",
      "language": "python",
      "name": "python3"
    },
    "language_info": {
      "codemirror_mode": {
        "name": "ipython",
        "version": 3
      },
      "file_extension": ".py",
      "mimetype": "text/x-python",
      "name": "python",
      "nbconvert_exporter": "python",
      "pygments_lexer": "ipython3",
      "version": "3.7.4"
    },
    "colab": {
      "name": "Gender detection.ipynb",
      "provenance": []
    }
  },
  "cells": [
    {
      "cell_type": "markdown",
      "metadata": {
        "id": "T4VUHHA0tL3u",
        "colab_type": "text"
      },
      "source": [
        "#### Name: Noha Magdy Ali \n",
        "#### ID: 1610126\n",
        "# Age and Gender Recognition using openCV and CNNs "
      ]
    },
    {
      "cell_type": "markdown",
      "metadata": {
        "id": "b5IBXHr9tL3y",
        "colab_type": "text"
      },
      "source": [
        "### Needed packages "
      ]
    },
    {
      "cell_type": "code",
      "metadata": {
        "id": "nJeF8yrXtL3z",
        "colab_type": "code",
        "outputId": "38de9de3-28f7-46c6-e82d-160970783700",
        "colab": {
          "base_uri": "https://localhost:8080/",
          "height": 836
        }
      },
      "source": [
        "from skimage import data, io\n",
        "from matplotlib import pyplot as plt\n",
        "import numpy as np\n",
        "from skimage import img_as_ubyte,img_as_float\n",
        "from skimage import data, io, filters\n",
        "from matplotlib.pyplot import imshow, show\n",
        "from skimage.morphology import watershed\n",
        "from skimage.measure import label\n",
        "from skimage.color import label2rgb\n",
        "from skimage import feature\n",
        "from skimage.filters import threshold_otsu,  threshold_local, sobel\n",
        "from skimage.morphology import erosion,dilation,opening,closing,square,disk\n",
        "from skimage.measure import label\n",
        "from skimage.color import label2rgb\n",
        "import os\n",
        "import pandas as pd\n",
        "!pip install -U tf-nightly\n",
        "import tensorflow as tf\n",
        "import functools\n",
        "!pip install mitdeeplearning\n",
        "import mitdeeplearning as mdl\n",
        "from tqdm import tqdm\n",
        "import cv2\n",
        "from skimage.transform import rescale, resize\n",
        "from skimage.color import rgb2gray\n",
        "print(tf.__version__)\n",
        "\n"
      ],
      "execution_count": 1,
      "outputs": [
        {
          "output_type": "stream",
          "text": [
            "Requirement already up-to-date: tf-nightly in /usr/local/lib/python3.6/dist-packages (2.3.0.dev20200529)\n",
            "Requirement already satisfied, skipping upgrade: h5py<2.11.0,>=2.10.0 in /usr/local/lib/python3.6/dist-packages (from tf-nightly) (2.10.0)\n",
            "Requirement already satisfied, skipping upgrade: six>=1.12.0 in /usr/local/lib/python3.6/dist-packages (from tf-nightly) (1.12.0)\n",
            "Requirement already satisfied, skipping upgrade: scipy==1.4.1 in /usr/local/lib/python3.6/dist-packages (from tf-nightly) (1.4.1)\n",
            "Requirement already satisfied, skipping upgrade: keras-preprocessing<1.2,>=1.1.1 in /usr/local/lib/python3.6/dist-packages (from tf-nightly) (1.1.2)\n",
            "Requirement already satisfied, skipping upgrade: numpy<2.0,>=1.16.0 in /usr/local/lib/python3.6/dist-packages (from tf-nightly) (1.18.4)\n",
            "Requirement already satisfied, skipping upgrade: grpcio>=1.8.6 in /usr/local/lib/python3.6/dist-packages (from tf-nightly) (1.29.0)\n",
            "Requirement already satisfied, skipping upgrade: protobuf>=3.9.2 in /usr/local/lib/python3.6/dist-packages (from tf-nightly) (3.10.0)\n",
            "Requirement already satisfied, skipping upgrade: opt-einsum>=2.3.2 in /usr/local/lib/python3.6/dist-packages (from tf-nightly) (3.2.1)\n",
            "Requirement already satisfied, skipping upgrade: wheel>=0.26 in /usr/local/lib/python3.6/dist-packages (from tf-nightly) (0.34.2)\n",
            "Requirement already satisfied, skipping upgrade: gast==0.3.3 in /usr/local/lib/python3.6/dist-packages (from tf-nightly) (0.3.3)\n",
            "Requirement already satisfied, skipping upgrade: google-pasta>=0.1.8 in /usr/local/lib/python3.6/dist-packages (from tf-nightly) (0.2.0)\n",
            "Requirement already satisfied, skipping upgrade: absl-py>=0.7.0 in /usr/local/lib/python3.6/dist-packages (from tf-nightly) (0.9.0)\n",
            "Requirement already satisfied, skipping upgrade: tb-nightly<2.4.0a0,>=2.3.0a0 in /usr/local/lib/python3.6/dist-packages (from tf-nightly) (2.3.0a20200529)\n",
            "Requirement already satisfied, skipping upgrade: tf-estimator-nightly in /usr/local/lib/python3.6/dist-packages (from tf-nightly) (2.3.0.dev2020052901)\n",
            "Requirement already satisfied, skipping upgrade: termcolor>=1.1.0 in /usr/local/lib/python3.6/dist-packages (from tf-nightly) (1.1.0)\n",
            "Requirement already satisfied, skipping upgrade: astunparse==1.6.3 in /usr/local/lib/python3.6/dist-packages (from tf-nightly) (1.6.3)\n",
            "Requirement already satisfied, skipping upgrade: wrapt>=1.11.1 in /usr/local/lib/python3.6/dist-packages (from tf-nightly) (1.12.1)\n",
            "Requirement already satisfied, skipping upgrade: setuptools in /usr/local/lib/python3.6/dist-packages (from protobuf>=3.9.2->tf-nightly) (46.4.0)\n",
            "Requirement already satisfied, skipping upgrade: google-auth-oauthlib<0.5,>=0.4.1 in /usr/local/lib/python3.6/dist-packages (from tb-nightly<2.4.0a0,>=2.3.0a0->tf-nightly) (0.4.1)\n",
            "Requirement already satisfied, skipping upgrade: markdown>=2.6.8 in /usr/local/lib/python3.6/dist-packages (from tb-nightly<2.4.0a0,>=2.3.0a0->tf-nightly) (3.2.2)\n",
            "Requirement already satisfied, skipping upgrade: tensorboard-plugin-wit>=1.6.0 in /usr/local/lib/python3.6/dist-packages (from tb-nightly<2.4.0a0,>=2.3.0a0->tf-nightly) (1.6.0.post3)\n",
            "Requirement already satisfied, skipping upgrade: google-auth<2,>=1.6.3 in /usr/local/lib/python3.6/dist-packages (from tb-nightly<2.4.0a0,>=2.3.0a0->tf-nightly) (1.7.2)\n",
            "Requirement already satisfied, skipping upgrade: requests<3,>=2.21.0 in /usr/local/lib/python3.6/dist-packages (from tb-nightly<2.4.0a0,>=2.3.0a0->tf-nightly) (2.23.0)\n",
            "Requirement already satisfied, skipping upgrade: werkzeug>=0.11.15 in /usr/local/lib/python3.6/dist-packages (from tb-nightly<2.4.0a0,>=2.3.0a0->tf-nightly) (1.0.1)\n",
            "Requirement already satisfied, skipping upgrade: requests-oauthlib>=0.7.0 in /usr/local/lib/python3.6/dist-packages (from google-auth-oauthlib<0.5,>=0.4.1->tb-nightly<2.4.0a0,>=2.3.0a0->tf-nightly) (1.3.0)\n",
            "Requirement already satisfied, skipping upgrade: importlib-metadata; python_version < \"3.8\" in /usr/local/lib/python3.6/dist-packages (from markdown>=2.6.8->tb-nightly<2.4.0a0,>=2.3.0a0->tf-nightly) (1.6.0)\n",
            "Requirement already satisfied, skipping upgrade: pyasn1-modules>=0.2.1 in /usr/local/lib/python3.6/dist-packages (from google-auth<2,>=1.6.3->tb-nightly<2.4.0a0,>=2.3.0a0->tf-nightly) (0.2.8)\n",
            "Requirement already satisfied, skipping upgrade: rsa<4.1,>=3.1.4 in /usr/local/lib/python3.6/dist-packages (from google-auth<2,>=1.6.3->tb-nightly<2.4.0a0,>=2.3.0a0->tf-nightly) (4.0)\n",
            "Requirement already satisfied, skipping upgrade: cachetools<3.2,>=2.0.0 in /usr/local/lib/python3.6/dist-packages (from google-auth<2,>=1.6.3->tb-nightly<2.4.0a0,>=2.3.0a0->tf-nightly) (3.1.1)\n",
            "Requirement already satisfied, skipping upgrade: chardet<4,>=3.0.2 in /usr/local/lib/python3.6/dist-packages (from requests<3,>=2.21.0->tb-nightly<2.4.0a0,>=2.3.0a0->tf-nightly) (3.0.4)\n",
            "Requirement already satisfied, skipping upgrade: idna<3,>=2.5 in /usr/local/lib/python3.6/dist-packages (from requests<3,>=2.21.0->tb-nightly<2.4.0a0,>=2.3.0a0->tf-nightly) (2.9)\n",
            "Requirement already satisfied, skipping upgrade: certifi>=2017.4.17 in /usr/local/lib/python3.6/dist-packages (from requests<3,>=2.21.0->tb-nightly<2.4.0a0,>=2.3.0a0->tf-nightly) (2020.4.5.1)\n",
            "Requirement already satisfied, skipping upgrade: urllib3!=1.25.0,!=1.25.1,<1.26,>=1.21.1 in /usr/local/lib/python3.6/dist-packages (from requests<3,>=2.21.0->tb-nightly<2.4.0a0,>=2.3.0a0->tf-nightly) (1.24.3)\n",
            "Requirement already satisfied, skipping upgrade: oauthlib>=3.0.0 in /usr/local/lib/python3.6/dist-packages (from requests-oauthlib>=0.7.0->google-auth-oauthlib<0.5,>=0.4.1->tb-nightly<2.4.0a0,>=2.3.0a0->tf-nightly) (3.1.0)\n",
            "Requirement already satisfied, skipping upgrade: zipp>=0.5 in /usr/local/lib/python3.6/dist-packages (from importlib-metadata; python_version < \"3.8\"->markdown>=2.6.8->tb-nightly<2.4.0a0,>=2.3.0a0->tf-nightly) (3.1.0)\n",
            "Requirement already satisfied, skipping upgrade: pyasn1<0.5.0,>=0.4.6 in /usr/local/lib/python3.6/dist-packages (from pyasn1-modules>=0.2.1->google-auth<2,>=1.6.3->tb-nightly<2.4.0a0,>=2.3.0a0->tf-nightly) (0.4.8)\n",
            "Requirement already satisfied: mitdeeplearning in /usr/local/lib/python3.6/dist-packages (0.1.2)\n",
            "Requirement already satisfied: numpy in /usr/local/lib/python3.6/dist-packages (from mitdeeplearning) (1.18.4)\n",
            "Requirement already satisfied: tqdm in /usr/local/lib/python3.6/dist-packages (from mitdeeplearning) (4.41.1)\n",
            "Requirement already satisfied: gym in /usr/local/lib/python3.6/dist-packages (from mitdeeplearning) (0.17.2)\n",
            "Requirement already satisfied: regex in /usr/local/lib/python3.6/dist-packages (from mitdeeplearning) (2019.12.20)\n",
            "Requirement already satisfied: pyglet<=1.5.0,>=1.4.0 in /usr/local/lib/python3.6/dist-packages (from gym->mitdeeplearning) (1.5.0)\n",
            "Requirement already satisfied: cloudpickle<1.4.0,>=1.2.0 in /usr/local/lib/python3.6/dist-packages (from gym->mitdeeplearning) (1.3.0)\n",
            "Requirement already satisfied: scipy in /usr/local/lib/python3.6/dist-packages (from gym->mitdeeplearning) (1.4.1)\n",
            "Requirement already satisfied: future in /usr/local/lib/python3.6/dist-packages (from pyglet<=1.5.0,>=1.4.0->gym->mitdeeplearning) (0.16.0)\n",
            "2.3.0-dev20200529\n"
          ],
          "name": "stdout"
        }
      ]
    },
    {
      "cell_type": "markdown",
      "metadata": {
        "id": "IcigeGYNtL35",
        "colab_type": "text"
      },
      "source": [
        "### Loading and Preparing Data"
      ]
    },
    {
      "cell_type": "code",
      "metadata": {
        "id": "MSVS1skY380V",
        "colab_type": "code",
        "colab": {}
      },
      "source": [
        "# file_id = '0BxYys69jI14kSVdWWllDMWhnN2c'\n",
        "# request = drive_service.files().get_media(fileId=file_id)\n",
        "# fh = io.BytesIO()\n",
        "# downloader = MediaIoBaseDownload(fh, request)\n",
        "# done = False\n",
        "# while done is False:\n",
        "#     status, done = downloader.next_chunk()\n",
        "#     print (\"Download %d%%.\" % int(status.progress() * 100))\n",
        "\n",
        "# !wget -P /usr https://drive.google.com/drive/u/0/folders/0BxYys69jI14kSVdWWllDMWhnN2c\n",
        "\n",
        "# my_tar = tarfile.open(\"/usr/0BxYys69jI14kSVdWWllDMWhnN2c.tar.gz\")\n",
        "# my_tar.extractall('/usr/Dataset') # specify which folder to extract to\n",
        "# my_tar.close()\n",
        "\n",
        "\n"
      ],
      "execution_count": 0,
      "outputs": []
    },
    {
      "cell_type": "code",
      "metadata": {
        "id": "Jg9FPaf2SZXp",
        "colab_type": "code",
        "outputId": "738a5274-300e-40c7-cee6-dfb07ac854b7",
        "colab": {
          "base_uri": "https://localhost:8080/",
          "height": 34
        }
      },
      "source": [
        "from google.colab import drive\n",
        "drive.mount('/content/drive')"
      ],
      "execution_count": 3,
      "outputs": [
        {
          "output_type": "stream",
          "text": [
            "Drive already mounted at /content/drive; to attempt to forcibly remount, call drive.mount(\"/content/drive\", force_remount=True).\n"
          ],
          "name": "stdout"
        }
      ]
    },
    {
      "cell_type": "code",
      "metadata": {
        "id": "9p-2HfCMtL35",
        "colab_type": "code",
        "colab": {}
      },
      "source": [
        "path= \"/content/drive/My Drive/Dataset/\"\n",
        "data= os.listdir(path)\n",
        "#print (data)\n",
        "Data = pd.DataFrame(columns=[\"Image\", \"Age\", \"Gender\"])\n",
        "\n",
        "\n",
        "for idx,i in zip(range(len(data)),data):\n",
        "    age, gender, race, name=i.split(\"_\")\n",
        "    img = io.imread(path+i)\n",
        "    img = resize(img, (512, 512))\n",
        "    img = rgb2gray(img)\n",
        "    img=img_as_ubyte(img)\n",
        "    img=np.array(img)\n",
        "    Data.loc[idx] = [ img, age, np.int32(int(gender))]\n",
        "    #append(pd.Series(data={\"Image\":img, \"Age\":age, \"Gender\":gender}, name=idx))"
      ],
      "execution_count": 0,
      "outputs": []
    },
    {
      "cell_type": "code",
      "metadata": {
        "id": "lV7xzy1NtL39",
        "colab_type": "code",
        "outputId": "a3c7495c-6d9f-4f50-9acc-ba5d9bf2031d",
        "colab": {
          "base_uri": "https://localhost:8080/",
          "height": 34
        }
      },
      "source": [
        "Data.shape"
      ],
      "execution_count": 5,
      "outputs": [
        {
          "output_type": "execute_result",
          "data": {
            "text/plain": [
              "(3251, 3)"
            ]
          },
          "metadata": {
            "tags": []
          },
          "execution_count": 5
        }
      ]
    },
    {
      "cell_type": "code",
      "metadata": {
        "id": "ppjD_DsxtL4E",
        "colab_type": "code",
        "outputId": "273c529f-0230-4066-fddc-03c50d96b425",
        "colab": {
          "base_uri": "https://localhost:8080/",
          "height": 204
        }
      },
      "source": [
        "Data.head()"
      ],
      "execution_count": 6,
      "outputs": [
        {
          "output_type": "execute_result",
          "data": {
            "text/html": [
              "<div>\n",
              "<style scoped>\n",
              "    .dataframe tbody tr th:only-of-type {\n",
              "        vertical-align: middle;\n",
              "    }\n",
              "\n",
              "    .dataframe tbody tr th {\n",
              "        vertical-align: top;\n",
              "    }\n",
              "\n",
              "    .dataframe thead th {\n",
              "        text-align: right;\n",
              "    }\n",
              "</style>\n",
              "<table border=\"1\" class=\"dataframe\">\n",
              "  <thead>\n",
              "    <tr style=\"text-align: right;\">\n",
              "      <th></th>\n",
              "      <th>Image</th>\n",
              "      <th>Age</th>\n",
              "      <th>Gender</th>\n",
              "    </tr>\n",
              "  </thead>\n",
              "  <tbody>\n",
              "    <tr>\n",
              "      <th>0</th>\n",
              "      <td>[[255, 255, 255, 255, 255, 255, 255, 255, 255,...</td>\n",
              "      <td>61</td>\n",
              "      <td>0</td>\n",
              "    </tr>\n",
              "    <tr>\n",
              "      <th>1</th>\n",
              "      <td>[[153, 174, 196, 206, 207, 205, 206, 206, 206,...</td>\n",
              "      <td>40</td>\n",
              "      <td>0</td>\n",
              "    </tr>\n",
              "    <tr>\n",
              "      <th>2</th>\n",
              "      <td>[[253, 253, 253, 252, 252, 252, 251, 252, 252,...</td>\n",
              "      <td>45</td>\n",
              "      <td>0</td>\n",
              "    </tr>\n",
              "    <tr>\n",
              "      <th>3</th>\n",
              "      <td>[[30, 27, 47, 67, 90, 105, 95, 86, 88, 91, 91,...</td>\n",
              "      <td>41</td>\n",
              "      <td>0</td>\n",
              "    </tr>\n",
              "    <tr>\n",
              "      <th>4</th>\n",
              "      <td>[[177, 177, 177, 178, 178, 178, 179, 179, 181,...</td>\n",
              "      <td>54</td>\n",
              "      <td>0</td>\n",
              "    </tr>\n",
              "  </tbody>\n",
              "</table>\n",
              "</div>"
            ],
            "text/plain": [
              "                                               Image Age Gender\n",
              "0  [[255, 255, 255, 255, 255, 255, 255, 255, 255,...  61      0\n",
              "1  [[153, 174, 196, 206, 207, 205, 206, 206, 206,...  40      0\n",
              "2  [[253, 253, 253, 252, 252, 252, 251, 252, 252,...  45      0\n",
              "3  [[30, 27, 47, 67, 90, 105, 95, 86, 88, 91, 91,...  41      0\n",
              "4  [[177, 177, 177, 178, 178, 178, 179, 179, 181,...  54      0"
            ]
          },
          "metadata": {
            "tags": []
          },
          "execution_count": 6
        }
      ]
    },
    {
      "cell_type": "code",
      "metadata": {
        "id": "qgCeg5zftL4K",
        "colab_type": "code",
        "outputId": "fcdf14cb-9988-4d28-b7aa-3d9a4e699fdd",
        "colab": {
          "base_uri": "https://localhost:8080/",
          "height": 419
        }
      },
      "source": [
        "rand_idxs = np.random.choice(Data.shape[0], 500, True)\n",
        "test = Data.loc[rand_idxs]\n",
        "train = Data\n",
        "train.drop(rand_idxs)"
      ],
      "execution_count": 7,
      "outputs": [
        {
          "output_type": "execute_result",
          "data": {
            "text/html": [
              "<div>\n",
              "<style scoped>\n",
              "    .dataframe tbody tr th:only-of-type {\n",
              "        vertical-align: middle;\n",
              "    }\n",
              "\n",
              "    .dataframe tbody tr th {\n",
              "        vertical-align: top;\n",
              "    }\n",
              "\n",
              "    .dataframe thead th {\n",
              "        text-align: right;\n",
              "    }\n",
              "</style>\n",
              "<table border=\"1\" class=\"dataframe\">\n",
              "  <thead>\n",
              "    <tr style=\"text-align: right;\">\n",
              "      <th></th>\n",
              "      <th>Image</th>\n",
              "      <th>Age</th>\n",
              "      <th>Gender</th>\n",
              "    </tr>\n",
              "  </thead>\n",
              "  <tbody>\n",
              "    <tr>\n",
              "      <th>0</th>\n",
              "      <td>[[255, 255, 255, 255, 255, 255, 255, 255, 255,...</td>\n",
              "      <td>61</td>\n",
              "      <td>0</td>\n",
              "    </tr>\n",
              "    <tr>\n",
              "      <th>1</th>\n",
              "      <td>[[153, 174, 196, 206, 207, 205, 206, 206, 206,...</td>\n",
              "      <td>40</td>\n",
              "      <td>0</td>\n",
              "    </tr>\n",
              "    <tr>\n",
              "      <th>2</th>\n",
              "      <td>[[253, 253, 253, 252, 252, 252, 251, 252, 252,...</td>\n",
              "      <td>45</td>\n",
              "      <td>0</td>\n",
              "    </tr>\n",
              "    <tr>\n",
              "      <th>3</th>\n",
              "      <td>[[30, 27, 47, 67, 90, 105, 95, 86, 88, 91, 91,...</td>\n",
              "      <td>41</td>\n",
              "      <td>0</td>\n",
              "    </tr>\n",
              "    <tr>\n",
              "      <th>4</th>\n",
              "      <td>[[177, 177, 177, 178, 178, 178, 179, 179, 181,...</td>\n",
              "      <td>54</td>\n",
              "      <td>0</td>\n",
              "    </tr>\n",
              "    <tr>\n",
              "      <th>...</th>\n",
              "      <td>...</td>\n",
              "      <td>...</td>\n",
              "      <td>...</td>\n",
              "    </tr>\n",
              "    <tr>\n",
              "      <th>3242</th>\n",
              "      <td>[[255, 255, 255, 255, 255, 255, 255, 255, 255,...</td>\n",
              "      <td>55</td>\n",
              "      <td>0</td>\n",
              "    </tr>\n",
              "    <tr>\n",
              "      <th>3244</th>\n",
              "      <td>[[76, 76, 76, 76, 76, 76, 76, 76, 76, 76, 76, ...</td>\n",
              "      <td>68</td>\n",
              "      <td>0</td>\n",
              "    </tr>\n",
              "    <tr>\n",
              "      <th>3245</th>\n",
              "      <td>[[180, 180, 180, 180, 180, 180, 180, 180, 180,...</td>\n",
              "      <td>70</td>\n",
              "      <td>0</td>\n",
              "    </tr>\n",
              "    <tr>\n",
              "      <th>3247</th>\n",
              "      <td>[[127, 127, 127, 127, 127, 127, 127, 127, 127,...</td>\n",
              "      <td>65</td>\n",
              "      <td>0</td>\n",
              "    </tr>\n",
              "    <tr>\n",
              "      <th>3248</th>\n",
              "      <td>[[158, 158, 158, 158, 158, 158, 158, 158, 158,...</td>\n",
              "      <td>58</td>\n",
              "      <td>0</td>\n",
              "    </tr>\n",
              "  </tbody>\n",
              "</table>\n",
              "<p>2787 rows × 3 columns</p>\n",
              "</div>"
            ],
            "text/plain": [
              "                                                  Image Age Gender\n",
              "0     [[255, 255, 255, 255, 255, 255, 255, 255, 255,...  61      0\n",
              "1     [[153, 174, 196, 206, 207, 205, 206, 206, 206,...  40      0\n",
              "2     [[253, 253, 253, 252, 252, 252, 251, 252, 252,...  45      0\n",
              "3     [[30, 27, 47, 67, 90, 105, 95, 86, 88, 91, 91,...  41      0\n",
              "4     [[177, 177, 177, 178, 178, 178, 179, 179, 181,...  54      0\n",
              "...                                                 ...  ..    ...\n",
              "3242  [[255, 255, 255, 255, 255, 255, 255, 255, 255,...  55      0\n",
              "3244  [[76, 76, 76, 76, 76, 76, 76, 76, 76, 76, 76, ...  68      0\n",
              "3245  [[180, 180, 180, 180, 180, 180, 180, 180, 180,...  70      0\n",
              "3247  [[127, 127, 127, 127, 127, 127, 127, 127, 127,...  65      0\n",
              "3248  [[158, 158, 158, 158, 158, 158, 158, 158, 158,...  58      0\n",
              "\n",
              "[2787 rows x 3 columns]"
            ]
          },
          "metadata": {
            "tags": []
          },
          "execution_count": 7
        }
      ]
    },
    {
      "cell_type": "code",
      "metadata": {
        "id": "0tf1Ra2AtL4P",
        "colab_type": "code",
        "outputId": "6bb5d0c9-2f93-45df-9204-25c4c4566577",
        "colab": {
          "base_uri": "https://localhost:8080/",
          "height": 204
        }
      },
      "source": [
        "train.head()"
      ],
      "execution_count": 8,
      "outputs": [
        {
          "output_type": "execute_result",
          "data": {
            "text/html": [
              "<div>\n",
              "<style scoped>\n",
              "    .dataframe tbody tr th:only-of-type {\n",
              "        vertical-align: middle;\n",
              "    }\n",
              "\n",
              "    .dataframe tbody tr th {\n",
              "        vertical-align: top;\n",
              "    }\n",
              "\n",
              "    .dataframe thead th {\n",
              "        text-align: right;\n",
              "    }\n",
              "</style>\n",
              "<table border=\"1\" class=\"dataframe\">\n",
              "  <thead>\n",
              "    <tr style=\"text-align: right;\">\n",
              "      <th></th>\n",
              "      <th>Image</th>\n",
              "      <th>Age</th>\n",
              "      <th>Gender</th>\n",
              "    </tr>\n",
              "  </thead>\n",
              "  <tbody>\n",
              "    <tr>\n",
              "      <th>0</th>\n",
              "      <td>[[255, 255, 255, 255, 255, 255, 255, 255, 255,...</td>\n",
              "      <td>61</td>\n",
              "      <td>0</td>\n",
              "    </tr>\n",
              "    <tr>\n",
              "      <th>1</th>\n",
              "      <td>[[153, 174, 196, 206, 207, 205, 206, 206, 206,...</td>\n",
              "      <td>40</td>\n",
              "      <td>0</td>\n",
              "    </tr>\n",
              "    <tr>\n",
              "      <th>2</th>\n",
              "      <td>[[253, 253, 253, 252, 252, 252, 251, 252, 252,...</td>\n",
              "      <td>45</td>\n",
              "      <td>0</td>\n",
              "    </tr>\n",
              "    <tr>\n",
              "      <th>3</th>\n",
              "      <td>[[30, 27, 47, 67, 90, 105, 95, 86, 88, 91, 91,...</td>\n",
              "      <td>41</td>\n",
              "      <td>0</td>\n",
              "    </tr>\n",
              "    <tr>\n",
              "      <th>4</th>\n",
              "      <td>[[177, 177, 177, 178, 178, 178, 179, 179, 181,...</td>\n",
              "      <td>54</td>\n",
              "      <td>0</td>\n",
              "    </tr>\n",
              "  </tbody>\n",
              "</table>\n",
              "</div>"
            ],
            "text/plain": [
              "                                               Image Age Gender\n",
              "0  [[255, 255, 255, 255, 255, 255, 255, 255, 255,...  61      0\n",
              "1  [[153, 174, 196, 206, 207, 205, 206, 206, 206,...  40      0\n",
              "2  [[253, 253, 253, 252, 252, 252, 251, 252, 252,...  45      0\n",
              "3  [[30, 27, 47, 67, 90, 105, 95, 86, 88, 91, 91,...  41      0\n",
              "4  [[177, 177, 177, 178, 178, 178, 179, 179, 181,...  54      0"
            ]
          },
          "metadata": {
            "tags": []
          },
          "execution_count": 8
        }
      ]
    },
    {
      "cell_type": "code",
      "metadata": {
        "id": "44bQeXaEtL4S",
        "colab_type": "code",
        "outputId": "3913558e-f748-4e94-f1d2-2fa7bd0b648e",
        "colab": {
          "base_uri": "https://localhost:8080/",
          "height": 204
        }
      },
      "source": [
        "test.head()"
      ],
      "execution_count": 9,
      "outputs": [
        {
          "output_type": "execute_result",
          "data": {
            "text/html": [
              "<div>\n",
              "<style scoped>\n",
              "    .dataframe tbody tr th:only-of-type {\n",
              "        vertical-align: middle;\n",
              "    }\n",
              "\n",
              "    .dataframe tbody tr th {\n",
              "        vertical-align: top;\n",
              "    }\n",
              "\n",
              "    .dataframe thead th {\n",
              "        text-align: right;\n",
              "    }\n",
              "</style>\n",
              "<table border=\"1\" class=\"dataframe\">\n",
              "  <thead>\n",
              "    <tr style=\"text-align: right;\">\n",
              "      <th></th>\n",
              "      <th>Image</th>\n",
              "      <th>Age</th>\n",
              "      <th>Gender</th>\n",
              "    </tr>\n",
              "  </thead>\n",
              "  <tbody>\n",
              "    <tr>\n",
              "      <th>3184</th>\n",
              "      <td>[[213, 213, 213, 213, 213, 213, 213, 213, 213,...</td>\n",
              "      <td>40</td>\n",
              "      <td>0</td>\n",
              "    </tr>\n",
              "    <tr>\n",
              "      <th>618</th>\n",
              "      <td>[[28, 28, 27, 27, 26, 25, 24, 23, 22, 21, 21, ...</td>\n",
              "      <td>29</td>\n",
              "      <td>1</td>\n",
              "    </tr>\n",
              "    <tr>\n",
              "      <th>2837</th>\n",
              "      <td>[[198, 198, 198, 198, 199, 199, 199, 200, 200,...</td>\n",
              "      <td>54</td>\n",
              "      <td>1</td>\n",
              "    </tr>\n",
              "    <tr>\n",
              "      <th>2882</th>\n",
              "      <td>[[242, 242, 242, 241, 241, 240, 239, 238, 237,...</td>\n",
              "      <td>56</td>\n",
              "      <td>0</td>\n",
              "    </tr>\n",
              "    <tr>\n",
              "      <th>691</th>\n",
              "      <td>[[209, 210, 212, 212, 210, 209, 209, 212, 216,...</td>\n",
              "      <td>60</td>\n",
              "      <td>0</td>\n",
              "    </tr>\n",
              "  </tbody>\n",
              "</table>\n",
              "</div>"
            ],
            "text/plain": [
              "                                                  Image Age Gender\n",
              "3184  [[213, 213, 213, 213, 213, 213, 213, 213, 213,...  40      0\n",
              "618   [[28, 28, 27, 27, 26, 25, 24, 23, 22, 21, 21, ...  29      1\n",
              "2837  [[198, 198, 198, 198, 199, 199, 199, 200, 200,...  54      1\n",
              "2882  [[242, 242, 242, 241, 241, 240, 239, 238, 237,...  56      0\n",
              "691   [[209, 210, 212, 212, 210, 209, 209, 212, 216,...  60      0"
            ]
          },
          "metadata": {
            "tags": []
          },
          "execution_count": 9
        }
      ]
    },
    {
      "cell_type": "code",
      "metadata": {
        "id": "ibI4qM9ShSEz",
        "colab_type": "code",
        "outputId": "7bda0695-0103-4c40-f23d-d6581dc9a78b",
        "colab": {
          "base_uri": "https://localhost:8080/",
          "height": 68
        }
      },
      "source": [
        "x = np.array([[np.array([1,2,3]),[1,2,3]]])\n",
        "print (x)\n",
        "x_tf = tf.convert_to_tensor(x)\n",
        "print (type(x_tf))"
      ],
      "execution_count": 10,
      "outputs": [
        {
          "output_type": "stream",
          "text": [
            "[[[1 2 3]\n",
            "  [1 2 3]]]\n",
            "<class 'tensorflow.python.framework.ops.EagerTensor'>\n"
          ],
          "name": "stdout"
        }
      ]
    },
    {
      "cell_type": "code",
      "metadata": {
        "id": "QT-DggedjFbu",
        "colab_type": "code",
        "colab": {}
      },
      "source": [
        "def get_batch(x):\n",
        "  rand_idxs = np.random.choice(train.shape[0], x, True)\n",
        "\n",
        "  x = (train.loc[rand_idxs][\"Image\"]).to_numpy()\n",
        "  img = np.zeros((x.shape[0],512,512))\n",
        "  for idx in range((x.shape[0])):\n",
        "    img[idx]=x[idx]\n",
        "  img= np.expand_dims(img,-1)\n",
        "  \n",
        "  y = train.loc[rand_idxs][\"Gender\"].to_numpy()\n",
        "  lab = np.zeros((y.shape[0]))\n",
        "  for idx in range((y.shape[0])):\n",
        "    lab[idx]=y[idx]\n",
        "  lab= np.expand_dims(lab,-1)\n",
        "  \n",
        "  return img,lab\n"
      ],
      "execution_count": 0,
      "outputs": []
    },
    {
      "cell_type": "code",
      "metadata": {
        "id": "xre5EHBRtL4d",
        "colab_type": "code",
        "colab": {}
      },
      "source": [
        "n_filters = 12 \n",
        "\n",
        "def classifier(n_outputs=1):\n",
        "    Conv2D = functools.partial(tf.keras.layers.Conv2D, padding='same', activation='relu')\n",
        "    BatchNormalization = tf.keras.layers.BatchNormalization\n",
        "    Flatten = tf.keras.layers.Flatten\n",
        "    Dense = functools.partial(tf.keras.layers.Dense, activation='relu')\n",
        "\n",
        "    model = tf.keras.Sequential([\n",
        "    Conv2D(filters=1*n_filters, kernel_size=5,  strides=2),\n",
        "    BatchNormalization(),\n",
        "    \n",
        "    Conv2D(filters=2*n_filters, kernel_size=5,  strides=2),\n",
        "    BatchNormalization(),\n",
        "\n",
        "    Conv2D(filters=4*n_filters, kernel_size=3,  strides=2),\n",
        "    BatchNormalization(),\n",
        "\n",
        "    Conv2D(filters=6*n_filters, kernel_size=3,  strides=2),\n",
        "    BatchNormalization(),\n",
        "\n",
        "    Flatten(),\n",
        "    Dense(512),\n",
        "    Dense(n_outputs, activation=None),\n",
        "  ])\n",
        "    return model\n",
        "My_classifier = classifier()"
      ],
      "execution_count": 0,
      "outputs": []
    },
    {
      "cell_type": "code",
      "metadata": {
        "id": "4nnNddbftL4j",
        "colab_type": "code",
        "outputId": "0c0584cd-5ec0-45bf-d985-62851046fa48",
        "colab": {
          "base_uri": "https://localhost:8080/",
          "height": 530
        }
      },
      "source": [
        "# Training hyperparameters\n",
        "batch_size = 32\n",
        "num_epochs = 2  # keep small to run faster\n",
        "learning_rate = 5e-4\n",
        "tf.keras.backend.set_floatx('float64')\n",
        "\n",
        "optimizer = tf.keras.optimizers.Adam(learning_rate) # define our optimizer\n",
        "loss_history = mdl.util.LossHistory(smoothing_factor=0.99) # to record loss evolution\n",
        "plotter = mdl.util.PeriodicPlotter(sec=2, scale='semilogy')\n",
        "if hasattr(tqdm, '_instances'): tqdm._instances.clear() # clear if it exists\n",
        "\n",
        "@tf.function\n",
        "def standard_train_step(x, y):\n",
        "    \n",
        "    with tf.GradientTape() as tape:\n",
        "    # feed the images into the model\n",
        "      logits = My_classifier(x)\n",
        "      logits=tf.cast(logits, tf.float64)\n",
        "    #Compute the loss\n",
        "      loss = tf.nn.sigmoid_cross_entropy_with_logits(labels=y, logits=logits)\n",
        "\n",
        "  # Backpropagation\n",
        "    grads = tape.gradient(loss, My_classifier.trainable_variables)\n",
        "    optimizer.apply_gradients(zip(grads, My_classifier.trainable_variables))\n",
        "    return loss\n",
        "    return logits \n",
        "  \n",
        "\n",
        "# The training loop!\n",
        "for epoch in range(num_epochs):\n",
        "    for idx in tqdm(range(train.shape[0]//batch_size)):\n",
        "        # Grab a batch of training data and propagate through the network\n",
        "        x, y = get_batch(batch_size)\n",
        "        loss = standard_train_step(x, y)\n",
        "\n",
        "        # Record the loss and plot the evolution of the loss as a function of training\n",
        "        loss_history.append(loss.numpy().mean())\n",
        "        plotter.plot(loss_history.get())"
      ],
      "execution_count": 13,
      "outputs": [
        {
          "output_type": "display_data",
          "data": {
            "image/png": "[encoded data removed]",
            "text/plain": [
              "<Figure size 432x288 with 1 Axes>"
            ]
          },
          "metadata": {
            "tags": []
          }
        },
        {
          "output_type": "stream",
          "text": [
            "100%|██████████| 101/101 [05:31<00:00,  3.28s/it]\n"
          ],
          "name": "stderr"
        },
        {
          "output_type": "display_data",
          "data": {
            "image/png": "[encoded data removed]",
            "text/plain": [
              "<Figure size 432x288 with 1 Axes>"
            ]
          },
          "metadata": {
            "tags": [],
            "needs_background": "light"
          }
        }
      ]
    },
    {
      "cell_type": "code",
      "metadata": {
        "id": "oOoUH6lctL4m",
        "colab_type": "code",
        "outputId": "9b44578f-dd6d-47c6-c176-3682d07f2787",
        "colab": {
          "base_uri": "https://localhost:8080/",
          "height": 1000
        }
      },
      "source": [
        "x = (test[\"Image\"]).to_numpy()\n",
        "img = np.zeros((x.shape[0],512,512))\n",
        "for idx in range((x.shape[0])):\n",
        "  img[idx]=x[idx]\n",
        "img= np.expand_dims(img,-1)\n",
        "\n",
        "x = (test[\"Gender\"]).to_numpy()\n",
        "targets = np.zeros((x.shape[0]))\n",
        "for idx in range((x.shape[0])):\n",
        "  targets[idx]=x[idx]\n",
        "targets= np.expand_dims(targets,-1)\n",
        "\n",
        "logits = My_classifier(img)\n",
        "logits=tf.cast(logits, tf.float64)\n",
        "logits= np.squeeze(logits)\n",
        "print (logits)\n",
        "\n",
        "acc = 0\n",
        "# res=0.5\n",
        "# for i, idx in zip(logits, logits.shape[0]):\n",
        "#   if i>=0.5:\n",
        "#     res=1\n",
        "#   else:\n",
        "#     res=0\n",
        "#   logits[]\n",
        "\n",
        "logits = [i >= 0.5 for i in logits]\n",
        "print(logits)\n",
        "for i in range(len(logits)):\n",
        "  if int(logits[i]) == targets[i]: \n",
        "    acc=acc+1\n",
        "acc = (acc/len(logits))*100\n",
        "print(\"acc = \", acc, \"%\")"
      ],
      "execution_count": 20,
      "outputs": [
        {
          "output_type": "stream",
          "text": [
            "[-4.74947309e+00  2.23037863e+00 -1.12253022e+00 -4.02070141e+00\n",
            " -7.09662735e-01 -2.72760534e+00 -2.10473490e+00 -2.91994913e-03\n",
            "  5.56287110e-01 -1.16617286e+00 -2.16686606e+00 -8.45258522e+00\n",
            " -2.57855743e-01 -2.01800728e+00  1.18841100e+00  2.30775452e+00\n",
            " -4.42954826e+00  6.42940164e-01  3.93058109e+00 -2.15097618e+00\n",
            " -4.04780960e+00  1.42830598e+00  2.95434332e+00 -2.43629313e+00\n",
            "  1.22962761e+00 -2.24994397e+00  1.80101490e+00  1.15046871e+00\n",
            " -1.97379494e+00 -2.95326352e+00 -4.04165888e+00 -3.52017450e+00\n",
            "  3.66718203e-01  4.65727478e-01  6.20136738e-01 -8.51915181e-01\n",
            " -7.63527095e-01  1.44197083e+00 -2.21602368e+00 -3.19566393e+00\n",
            " -1.47559309e+00  3.46320558e+00 -8.33791077e-01 -5.44614363e+00\n",
            " -4.42278767e+00 -2.26965219e-01 -5.95381558e-01 -4.91203696e-01\n",
            " -1.77387834e+00 -2.71327972e+00 -3.95790339e+00 -1.43534839e+00\n",
            " -2.23541451e+00  3.80277395e+00 -2.01193333e+00 -3.98838806e+00\n",
            "  7.07816660e-01  2.37074327e+00 -9.13187444e-01  2.97102737e+00\n",
            " -1.52691853e+00  1.89695215e+00  3.36874390e+00 -4.28073502e+00\n",
            " -3.09084415e+00 -2.60602236e+00 -1.97379494e+00 -1.31404674e+00\n",
            " -2.18941736e+00 -2.61223173e+00  3.36059093e+00 -2.45967865e+00\n",
            "  1.60161519e+00 -4.25889820e-01  1.81816268e+00 -4.27637434e+00\n",
            "  1.69874096e+00 -2.09359813e+00 -3.36938047e+00  1.10847259e+00\n",
            " -3.07060766e+00 -2.16895199e+00 -1.52691853e+00 -1.95244420e+00\n",
            "  2.07667613e+00  1.05276847e+00  5.99124059e-02 -2.57587910e+00\n",
            " -3.68409419e+00 -2.86189508e+00 -2.58673620e+00 -1.36861110e+00\n",
            " -6.00086868e-01  6.11682355e-01  1.32051718e+00  1.42703986e+00\n",
            "  1.42631352e+00 -3.59434652e+00 -1.65430665e+00 -1.32890975e+00\n",
            "  6.17768884e-01 -4.47536039e+00  6.08416939e+00 -1.43198550e+00\n",
            "  2.64645195e+00 -1.61382270e+00 -3.49975586e+00 -5.22463694e-02\n",
            "  3.32157826e+00 -3.13679647e+00 -1.16955519e+00 -2.14749813e+00\n",
            "  4.46454257e-01 -1.01656592e+00 -1.22914684e+00 -3.81194925e+00\n",
            " -2.24741507e+00 -2.82245469e+00 -3.26811004e+00 -2.04858446e+00\n",
            " -2.73268723e+00 -1.11800790e+00  6.04359731e-02 -3.24173898e-01\n",
            " -8.36962998e-01 -3.56022859e+00 -1.71396577e+00 -3.94893080e-01\n",
            "  1.26571560e+00 -5.63960123e+00 -2.07136774e+00 -3.68803596e+00\n",
            "  7.15559840e-01 -4.29618865e-01  9.09268677e-01 -2.69820547e+00\n",
            " -1.02858162e+00 -4.85802889e+00 -9.25267398e-01 -3.64355826e+00\n",
            " -2.68152165e+00 -4.90249777e+00 -1.40174842e+00 -3.48698044e+00\n",
            " -1.56792331e+00 -1.30984044e+00 -4.47401857e+00  2.61488533e+00\n",
            "  1.05867791e+00 -4.90200907e-01 -3.56989098e+00 -3.40817094e+00\n",
            "  2.92768151e-01 -1.69978714e+00 -9.69070911e-01 -2.13050747e+00\n",
            " -1.71396577e+00 -4.10782671e+00 -7.63527095e-01 -2.73202205e+00\n",
            " -2.95493627e+00 -3.39169472e-01  1.42594683e+00 -2.72183418e+00\n",
            " -5.52683055e-01 -3.07327223e+00  1.71935534e+00 -8.91356289e-01\n",
            " -7.90204620e+00 -2.95493627e+00 -2.33461529e-01 -4.36573416e-01\n",
            " -1.56502521e+00 -1.61852992e+00 -4.53730631e+00 -8.99816871e-01\n",
            " -1.90268850e+00 -4.74947309e+00 -2.48022103e+00 -1.50919700e+00\n",
            " -1.97806919e+00 -1.88422894e+00  2.77732372e+00 -7.94325650e-01\n",
            " -1.61707592e+00  1.15017283e+00  1.92385674e+00 -2.13516808e+00\n",
            " -2.09063005e+00 -1.81060863e+00  5.46205938e-01 -2.92130995e+00\n",
            " -1.80986238e+00 -1.55541825e+00 -5.49042749e+00  4.46454257e-01\n",
            "  1.77592969e+00 -1.60502708e+00 -3.47782469e+00 -2.02146983e+00\n",
            " -2.44194794e+00  2.13544607e+00  1.88024688e+00  4.07347059e+00\n",
            "  8.71991217e-01 -9.30934325e-02 -5.01350999e-01 -2.67603517e+00\n",
            " -5.22622061e+00 -1.55307293e+00 -4.11976242e+00 -4.56528997e+00\n",
            " -3.01363158e+00 -8.56023371e-01 -3.01333934e-01 -4.01304865e+00\n",
            " -7.99312964e-02 -2.95505285e+00 -1.79216206e+00  5.70852384e-02\n",
            " -2.18367457e+00 -3.13728666e+00 -4.92627144e+00 -4.25658464e+00\n",
            " -1.04599321e+00 -3.75255823e+00  2.46571803e+00  4.34039450e+00\n",
            " -1.59629846e+00 -3.47782469e+00 -1.20581903e-01  3.79180741e+00\n",
            " -1.72525597e+00  3.26248631e-02 -1.85516095e+00  4.46454257e-01\n",
            " -1.16326356e+00 -3.08613229e+00 -1.34894156e+00 -4.10782671e+00\n",
            " -2.83421922e+00  2.33800125e+00 -8.56993139e-01 -8.45258522e+00\n",
            " -2.43732262e+00 -3.55741191e+00 -1.31697094e+00 -8.52613270e-01\n",
            " -2.57295942e+00  7.19375670e-01 -4.25639772e+00 -3.26731014e+00\n",
            " -1.87182903e+00  2.20806456e+00 -1.99899435e+00 -5.79740107e-01\n",
            " -3.57434940e+00 -1.75300515e+00  1.90039539e+00 -2.12290978e+00\n",
            " -5.26976395e+00  5.26699647e-02 -2.60022551e-01 -3.03181863e+00\n",
            " -1.24077082e+00  5.65936804e-01 -1.50638759e+00  7.74095118e-01\n",
            "  2.33715153e+00 -2.11187387e+00 -1.91418970e+00  1.18841100e+00\n",
            " -7.26566744e+00 -4.09250879e+00 -3.10265064e+00 -2.75838327e+00\n",
            " -4.25738001e+00  3.49642858e-02 -3.41255379e+00 -6.66612804e-01\n",
            " -1.99507147e-01 -4.48144466e-01 -2.04879427e+00  2.31623125e+00\n",
            " -3.26369333e+00 -3.34021330e+00  2.42482042e+00  4.02041388e+00\n",
            " -3.61862272e-01 -1.25284207e+00 -2.91994913e-03 -3.13574362e+00\n",
            " -8.55171013e+00  9.97351110e-01 -8.56023371e-01 -3.30590820e+00\n",
            " -3.13936925e+00 -1.55541825e+00 -1.39866436e+00  1.13208163e+00\n",
            "  1.05453086e+00 -3.40162039e+00 -1.21315074e+00 -2.57855743e-01\n",
            " -3.31825829e+00 -2.82483786e-01 -2.96739602e+00  3.46343207e+00\n",
            " -2.58120298e+00 -3.18243146e+00 -3.52085972e+00  4.40621138e+00\n",
            " -1.11746335e+00  1.19878089e+00 -8.34642589e-01  9.15500343e-01\n",
            " -8.00899208e-01  3.50060439e+00 -3.90065861e+00 -2.52404594e+00\n",
            " -1.12083066e+00 -2.33331990e+00 -1.16534328e+00 -1.01847076e+00\n",
            " -1.65612149e+00  3.51424068e-01 -3.01668358e+00 -1.75545466e+00\n",
            "  2.32026243e+00 -3.62769365e+00 -3.58789587e+00 -2.66914654e+00\n",
            "  1.89435840e+00 -1.42848742e+00 -1.94734251e+00 -2.87385732e-01\n",
            " -2.50697660e+00 -7.20184982e-01 -9.31567848e-01 -1.16617286e+00\n",
            "  2.40683198e+00 -1.39569414e+00 -1.63213980e+00 -2.44194794e+00\n",
            " -2.71713638e+00 -2.84148932e+00 -1.60862601e+00 -1.35044479e+00\n",
            "  3.65511513e+00  1.72779584e+00 -1.70573330e+00 -3.83568954e+00\n",
            " -4.99790764e+00 -2.00715542e+00  1.40930784e+00  2.13909531e+00\n",
            "  2.11929083e+00  6.71892703e-01 -4.90922022e+00  3.12448668e+00\n",
            "  2.21819496e+00 -1.26465249e+00  2.44513378e-02  2.32280636e+00\n",
            " -1.88342595e+00 -2.13855314e+00 -1.88679945e+00 -2.45967865e+00\n",
            " -9.58458722e-01 -1.93532848e+00 -3.68731403e+00 -6.15692091e+00\n",
            " -4.50158548e+00 -1.76682502e-01 -1.15629792e+00 -1.25915003e+00\n",
            " -6.46715462e-01 -2.82488537e+00 -3.16818953e+00 -3.04901218e+00\n",
            " -1.29660273e+00 -3.52085972e+00 -3.81096268e+00  1.44197083e+00\n",
            " -1.18623853e+00 -2.52394772e+00 -4.62226725e+00 -3.68377805e+00\n",
            " -1.37969053e+00 -2.43080115e+00  1.26571560e+00 -1.22635627e+00\n",
            " -2.00999594e+00 -4.09092045e+00 -6.25747681e-01 -6.30117476e-01\n",
            " -1.97922766e+00 -3.31046605e+00 -4.76343918e+00 -2.87334013e+00\n",
            " -1.61382270e+00  5.26329160e-01 -5.53952932e-01 -8.87661576e-01\n",
            " -2.49700928e+00 -3.56593537e+00 -3.26731014e+00  2.28834367e+00\n",
            "  3.93058109e+00 -1.20312464e+00 -5.82106256e+00 -5.49718094e+00\n",
            " -2.21449995e+00  3.21981716e+00 -2.61060667e+00 -1.73791099e+00\n",
            " -1.94316292e+00 -2.30866480e+00 -7.49205208e+00 -2.82488537e+00\n",
            " -4.60666752e+00 -2.24781704e+00 -3.15798426e+00 -1.42535746e+00\n",
            "  1.10847259e+00 -2.57118464e+00 -1.63712156e+00 -9.15806592e-01\n",
            " -3.06744576e+00 -3.83568954e+00 -1.73106992e+00 -1.72207558e+00\n",
            " -1.65612149e+00 -2.84460831e+00 -1.35044479e+00 -2.49388409e+00\n",
            "  1.53543186e+00 -2.11187387e+00 -3.62609577e+00 -2.96561575e+00\n",
            " -1.78074408e+00  3.04773545e+00 -4.08974123e+00 -4.75391817e+00\n",
            "  1.81816268e+00 -3.13981390e+00 -2.09562016e+00 -3.41707826e+00\n",
            " -1.42687708e-01 -3.88373971e+00 -9.65174496e-01  3.15492773e+00\n",
            " -4.73302031e+00  1.37731695e+00  1.80101490e+00 -1.16230106e+00\n",
            " -2.49700928e+00 -5.04526329e+00 -8.32086265e-01 -3.30943465e+00\n",
            "  1.82939541e+00 -2.82195759e+00 -4.90731031e-01 -1.33090675e+00\n",
            " -7.67586604e-02 -3.25360322e+00 -9.28481162e-01 -2.36289215e+00\n",
            " -1.57251644e+00 -3.05952811e+00 -6.28780499e-02 -4.60666752e+00\n",
            "  5.22514534e+00 -2.48993307e-01 -1.90925050e+00  9.81450856e-01\n",
            " -2.60331655e+00  1.59294331e+00 -3.00509953e+00  9.31299806e-01\n",
            " -4.79116774e+00 -1.47743845e+00 -2.51119494e+00 -2.86709929e+00\n",
            " -2.47598910e+00 -2.37492919e+00 -6.81119108e+00 -5.02612293e-01\n",
            " -2.56612778e+00  3.27428477e-03 -3.24173898e-01 -3.60193253e+00\n",
            "  1.64136678e-01  5.40654325e+00 -3.69395161e+00 -1.06385148e+00\n",
            " -3.60166883e+00 -2.25237536e+00  5.70853576e-02 -1.92548013e+00]\n",
            "[False, True, False, False, False, False, False, False, True, False, False, False, False, False, True, True, False, True, True, False, False, True, True, False, True, False, True, True, False, False, False, False, False, False, True, False, False, True, False, False, False, True, False, False, False, False, False, False, False, False, False, False, False, True, False, False, True, True, False, True, False, True, True, False, False, False, False, False, False, False, True, False, True, False, True, False, True, False, False, True, False, False, False, False, True, True, False, False, False, False, False, False, False, True, True, True, True, False, False, False, True, False, True, False, True, False, False, False, True, False, False, False, False, False, False, False, False, False, False, False, False, False, False, False, False, False, False, False, True, False, False, False, True, False, True, False, False, False, False, False, False, False, False, False, False, False, False, True, True, False, False, False, False, False, False, False, False, False, False, False, False, False, True, False, False, False, True, False, False, False, False, False, False, False, False, False, False, False, False, False, False, False, True, False, False, True, True, False, False, False, True, False, False, False, False, False, True, False, False, False, False, True, True, True, True, False, False, False, False, False, False, False, False, False, False, False, False, False, False, False, False, False, False, False, False, False, True, True, False, False, False, True, False, False, False, False, False, False, False, False, False, True, False, False, False, False, False, False, False, True, False, False, False, True, False, False, False, False, True, False, False, False, False, False, False, True, False, True, True, False, False, True, False, False, False, False, False, False, False, False, False, False, False, True, False, False, True, True, False, False, False, False, False, True, False, False, False, False, False, True, True, False, False, False, False, False, False, True, False, False, False, True, False, True, False, True, False, True, False, False, False, False, False, False, False, False, False, False, True, False, False, False, True, False, False, False, False, False, False, False, True, False, False, False, False, False, False, False, True, True, False, False, False, False, True, True, True, True, False, True, True, False, False, True, False, False, False, False, False, False, False, False, False, False, False, False, False, False, False, False, False, False, False, True, False, False, False, False, False, False, True, False, False, False, False, False, False, False, False, False, False, True, False, False, False, False, False, True, True, False, False, False, False, True, False, False, False, False, False, False, False, False, False, False, True, False, False, False, False, False, False, False, False, False, False, False, True, False, False, False, False, True, False, False, True, False, False, False, False, False, False, True, False, True, True, False, False, False, False, False, True, False, False, False, False, False, False, False, False, False, False, False, True, False, False, True, False, True, False, True, False, False, False, False, False, False, False, False, False, False, False, False, False, True, False, False, False, False, False, False]\n",
            "acc =  86.8 %\n"
          ],
          "name": "stdout"
        }
      ]
    }
  ]
}