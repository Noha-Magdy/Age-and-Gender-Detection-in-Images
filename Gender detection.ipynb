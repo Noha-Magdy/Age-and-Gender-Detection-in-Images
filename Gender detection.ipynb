{
  "nbformat": 4,
  "nbformat_minor": 0,
  "metadata": {
    "kernelspec": {
      "display_name": "Python 3",
      "language": "python",
      "name": "python3"
    },
    "language_info": {
      "codemirror_mode": {
        "name": "ipython",
        "version": 3
      },
      "file_extension": ".py",
      "mimetype": "text/x-python",
      "name": "python",
      "nbconvert_exporter": "python",
      "pygments_lexer": "ipython3",
      "version": "3.7.4"
    },
    "colab": {
      "name": "Gender detection.ipynb",
      "provenance": []
    }
  },
  "cells": [
    {
      "cell_type": "markdown",
      "metadata": {
        "id": "T4VUHHA0tL3u",
        "colab_type": "text"
      },
      "source": [
        "#### Name: Noha Magdy Ali \n",
        "#### ID: 1610126\n",
        "# Age and Gender Recognition using openCV and CNNs "
      ]
    },
    {
      "cell_type": "markdown",
      "metadata": {
        "id": "b5IBXHr9tL3y",
        "colab_type": "text"
      },
      "source": [
        "### Needed packages "
      ]
    },
    {
      "cell_type": "code",
      "metadata": {
        "id": "nJeF8yrXtL3z",
        "colab_type": "code",
        "outputId": "16ea5d0a-03c7-4cec-8852-51effebafb24",
        "colab": {
          "base_uri": "https://localhost:8080/",
          "height": 836
        }
      },
      "source": [
        "from skimage import data, io\n",
        "from matplotlib import pyplot as plt\n",
        "import numpy as np\n",
        "from skimage import img_as_ubyte,img_as_float\n",
        "from skimage import data, io, filters\n",
        "from matplotlib.pyplot import imshow, show\n",
        "from skimage.morphology import watershed\n",
        "from skimage.measure import label\n",
        "from skimage.color import label2rgb\n",
        "from skimage import feature\n",
        "from skimage.filters import threshold_otsu,  threshold_local, sobel\n",
        "from skimage.morphology import erosion,dilation,opening,closing,square,disk\n",
        "from skimage.measure import label\n",
        "from skimage.color import label2rgb\n",
        "import os\n",
        "import pandas as pd\n",
        "!pip install -U tf-nightly\n",
        "import tensorflow as tf\n",
        "import functools\n",
        "!pip install mitdeeplearning\n",
        "import mitdeeplearning as mdl\n",
        "from tqdm import tqdm\n",
        "import cv2\n",
        "from skimage.transform import rescale, resize\n",
        "from skimage.color import rgb2gray\n",
        "print(tf.__version__)\n",
        "\n"
      ],
      "execution_count": 136,
      "outputs": [
        {
          "output_type": "stream",
          "text": [
            "Requirement already up-to-date: tf-nightly in /usr/local/lib/python3.6/dist-packages (2.3.0.dev20200529)\n",
            "Requirement already satisfied, skipping upgrade: wrapt>=1.11.1 in /usr/local/lib/python3.6/dist-packages (from tf-nightly) (1.12.1)\n",
            "Requirement already satisfied, skipping upgrade: keras-preprocessing<1.2,>=1.1.1 in /usr/local/lib/python3.6/dist-packages (from tf-nightly) (1.1.2)\n",
            "Requirement already satisfied, skipping upgrade: tb-nightly<2.4.0a0,>=2.3.0a0 in /usr/local/lib/python3.6/dist-packages (from tf-nightly) (2.3.0a20200529)\n",
            "Requirement already satisfied, skipping upgrade: grpcio>=1.8.6 in /usr/local/lib/python3.6/dist-packages (from tf-nightly) (1.29.0)\n",
            "Requirement already satisfied, skipping upgrade: absl-py>=0.7.0 in /usr/local/lib/python3.6/dist-packages (from tf-nightly) (0.9.0)\n",
            "Requirement already satisfied, skipping upgrade: numpy<2.0,>=1.16.0 in /usr/local/lib/python3.6/dist-packages (from tf-nightly) (1.18.4)\n",
            "Requirement already satisfied, skipping upgrade: termcolor>=1.1.0 in /usr/local/lib/python3.6/dist-packages (from tf-nightly) (1.1.0)\n",
            "Requirement already satisfied, skipping upgrade: h5py<2.11.0,>=2.10.0 in /usr/local/lib/python3.6/dist-packages (from tf-nightly) (2.10.0)\n",
            "Requirement already satisfied, skipping upgrade: protobuf>=3.9.2 in /usr/local/lib/python3.6/dist-packages (from tf-nightly) (3.10.0)\n",
            "Requirement already satisfied, skipping upgrade: astunparse==1.6.3 in /usr/local/lib/python3.6/dist-packages (from tf-nightly) (1.6.3)\n",
            "Requirement already satisfied, skipping upgrade: tf-estimator-nightly in /usr/local/lib/python3.6/dist-packages (from tf-nightly) (2.3.0.dev2020052901)\n",
            "Requirement already satisfied, skipping upgrade: opt-einsum>=2.3.2 in /usr/local/lib/python3.6/dist-packages (from tf-nightly) (3.2.1)\n",
            "Requirement already satisfied, skipping upgrade: scipy==1.4.1 in /usr/local/lib/python3.6/dist-packages (from tf-nightly) (1.4.1)\n",
            "Requirement already satisfied, skipping upgrade: gast==0.3.3 in /usr/local/lib/python3.6/dist-packages (from tf-nightly) (0.3.3)\n",
            "Requirement already satisfied, skipping upgrade: google-pasta>=0.1.8 in /usr/local/lib/python3.6/dist-packages (from tf-nightly) (0.2.0)\n",
            "Requirement already satisfied, skipping upgrade: six>=1.12.0 in /usr/local/lib/python3.6/dist-packages (from tf-nightly) (1.12.0)\n",
            "Requirement already satisfied, skipping upgrade: wheel>=0.26 in /usr/local/lib/python3.6/dist-packages (from tf-nightly) (0.34.2)\n",
            "Requirement already satisfied, skipping upgrade: markdown>=2.6.8 in /usr/local/lib/python3.6/dist-packages (from tb-nightly<2.4.0a0,>=2.3.0a0->tf-nightly) (3.2.2)\n",
            "Requirement already satisfied, skipping upgrade: setuptools>=41.0.0 in /usr/local/lib/python3.6/dist-packages (from tb-nightly<2.4.0a0,>=2.3.0a0->tf-nightly) (46.4.0)\n",
            "Requirement already satisfied, skipping upgrade: werkzeug>=0.11.15 in /usr/local/lib/python3.6/dist-packages (from tb-nightly<2.4.0a0,>=2.3.0a0->tf-nightly) (1.0.1)\n",
            "Requirement already satisfied, skipping upgrade: tensorboard-plugin-wit>=1.6.0 in /usr/local/lib/python3.6/dist-packages (from tb-nightly<2.4.0a0,>=2.3.0a0->tf-nightly) (1.6.0.post3)\n",
            "Requirement already satisfied, skipping upgrade: requests<3,>=2.21.0 in /usr/local/lib/python3.6/dist-packages (from tb-nightly<2.4.0a0,>=2.3.0a0->tf-nightly) (2.23.0)\n",
            "Requirement already satisfied, skipping upgrade: google-auth<2,>=1.6.3 in /usr/local/lib/python3.6/dist-packages (from tb-nightly<2.4.0a0,>=2.3.0a0->tf-nightly) (1.7.2)\n",
            "Requirement already satisfied, skipping upgrade: google-auth-oauthlib<0.5,>=0.4.1 in /usr/local/lib/python3.6/dist-packages (from tb-nightly<2.4.0a0,>=2.3.0a0->tf-nightly) (0.4.1)\n",
            "Requirement already satisfied, skipping upgrade: importlib-metadata; python_version < \"3.8\" in /usr/local/lib/python3.6/dist-packages (from markdown>=2.6.8->tb-nightly<2.4.0a0,>=2.3.0a0->tf-nightly) (1.6.0)\n",
            "Requirement already satisfied, skipping upgrade: idna<3,>=2.5 in /usr/local/lib/python3.6/dist-packages (from requests<3,>=2.21.0->tb-nightly<2.4.0a0,>=2.3.0a0->tf-nightly) (2.9)\n",
            "Requirement already satisfied, skipping upgrade: chardet<4,>=3.0.2 in /usr/local/lib/python3.6/dist-packages (from requests<3,>=2.21.0->tb-nightly<2.4.0a0,>=2.3.0a0->tf-nightly) (3.0.4)\n",
            "Requirement already satisfied, skipping upgrade: certifi>=2017.4.17 in /usr/local/lib/python3.6/dist-packages (from requests<3,>=2.21.0->tb-nightly<2.4.0a0,>=2.3.0a0->tf-nightly) (2020.4.5.1)\n",
            "Requirement already satisfied, skipping upgrade: urllib3!=1.25.0,!=1.25.1,<1.26,>=1.21.1 in /usr/local/lib/python3.6/dist-packages (from requests<3,>=2.21.0->tb-nightly<2.4.0a0,>=2.3.0a0->tf-nightly) (1.24.3)\n",
            "Requirement already satisfied, skipping upgrade: pyasn1-modules>=0.2.1 in /usr/local/lib/python3.6/dist-packages (from google-auth<2,>=1.6.3->tb-nightly<2.4.0a0,>=2.3.0a0->tf-nightly) (0.2.8)\n",
            "Requirement already satisfied, skipping upgrade: cachetools<3.2,>=2.0.0 in /usr/local/lib/python3.6/dist-packages (from google-auth<2,>=1.6.3->tb-nightly<2.4.0a0,>=2.3.0a0->tf-nightly) (3.1.1)\n",
            "Requirement already satisfied, skipping upgrade: rsa<4.1,>=3.1.4 in /usr/local/lib/python3.6/dist-packages (from google-auth<2,>=1.6.3->tb-nightly<2.4.0a0,>=2.3.0a0->tf-nightly) (4.0)\n",
            "Requirement already satisfied, skipping upgrade: requests-oauthlib>=0.7.0 in /usr/local/lib/python3.6/dist-packages (from google-auth-oauthlib<0.5,>=0.4.1->tb-nightly<2.4.0a0,>=2.3.0a0->tf-nightly) (1.3.0)\n",
            "Requirement already satisfied, skipping upgrade: zipp>=0.5 in /usr/local/lib/python3.6/dist-packages (from importlib-metadata; python_version < \"3.8\"->markdown>=2.6.8->tb-nightly<2.4.0a0,>=2.3.0a0->tf-nightly) (3.1.0)\n",
            "Requirement already satisfied, skipping upgrade: pyasn1<0.5.0,>=0.4.6 in /usr/local/lib/python3.6/dist-packages (from pyasn1-modules>=0.2.1->google-auth<2,>=1.6.3->tb-nightly<2.4.0a0,>=2.3.0a0->tf-nightly) (0.4.8)\n",
            "Requirement already satisfied, skipping upgrade: oauthlib>=3.0.0 in /usr/local/lib/python3.6/dist-packages (from requests-oauthlib>=0.7.0->google-auth-oauthlib<0.5,>=0.4.1->tb-nightly<2.4.0a0,>=2.3.0a0->tf-nightly) (3.1.0)\n",
            "Requirement already satisfied: mitdeeplearning in /usr/local/lib/python3.6/dist-packages (0.1.2)\n",
            "Requirement already satisfied: gym in /usr/local/lib/python3.6/dist-packages (from mitdeeplearning) (0.17.2)\n",
            "Requirement already satisfied: regex in /usr/local/lib/python3.6/dist-packages (from mitdeeplearning) (2019.12.20)\n",
            "Requirement already satisfied: numpy in /usr/local/lib/python3.6/dist-packages (from mitdeeplearning) (1.18.4)\n",
            "Requirement already satisfied: tqdm in /usr/local/lib/python3.6/dist-packages (from mitdeeplearning) (4.41.1)\n",
            "Requirement already satisfied: scipy in /usr/local/lib/python3.6/dist-packages (from gym->mitdeeplearning) (1.4.1)\n",
            "Requirement already satisfied: pyglet<=1.5.0,>=1.4.0 in /usr/local/lib/python3.6/dist-packages (from gym->mitdeeplearning) (1.5.0)\n",
            "Requirement already satisfied: cloudpickle<1.4.0,>=1.2.0 in /usr/local/lib/python3.6/dist-packages (from gym->mitdeeplearning) (1.3.0)\n",
            "Requirement already satisfied: future in /usr/local/lib/python3.6/dist-packages (from pyglet<=1.5.0,>=1.4.0->gym->mitdeeplearning) (0.16.0)\n",
            "2.3.0-dev20200529\n"
          ],
          "name": "stdout"
        }
      ]
    },
    {
      "cell_type": "markdown",
      "metadata": {
        "id": "IcigeGYNtL35",
        "colab_type": "text"
      },
      "source": [
        "### Loading and Preparing Data"
      ]
    },
    {
      "cell_type": "code",
      "metadata": {
        "id": "MSVS1skY380V",
        "colab_type": "code",
        "colab": {}
      },
      "source": [
        "# file_id = '0BxYys69jI14kSVdWWllDMWhnN2c'\n",
        "# request = drive_service.files().get_media(fileId=file_id)\n",
        "# fh = io.BytesIO()\n",
        "# downloader = MediaIoBaseDownload(fh, request)\n",
        "# done = False\n",
        "# while done is False:\n",
        "#     status, done = downloader.next_chunk()\n",
        "#     print (\"Download %d%%.\" % int(status.progress() * 100))\n",
        "\n",
        "# !wget -P /usr https://drive.google.com/drive/u/0/folders/0BxYys69jI14kSVdWWllDMWhnN2c\n",
        "\n",
        "# my_tar = tarfile.open(\"/usr/0BxYys69jI14kSVdWWllDMWhnN2c.tar.gz\")\n",
        "# my_tar.extractall('/usr/Dataset') # specify which folder to extract to\n",
        "# my_tar.close()\n",
        "\n",
        "\n"
      ],
      "execution_count": 0,
      "outputs": []
    },
    {
      "cell_type": "code",
      "metadata": {
        "id": "Jg9FPaf2SZXp",
        "colab_type": "code",
        "colab": {
          "base_uri": "https://localhost:8080/",
          "height": 34
        },
        "outputId": "531adfd6-e777-4d3f-87c5-74ac08bc4b2f"
      },
      "source": [
        "from google.colab import drive\n",
        "drive.mount('/content/drive')"
      ],
      "execution_count": 138,
      "outputs": [
        {
          "output_type": "stream",
          "text": [
            "Drive already mounted at /content/drive; to attempt to forcibly remount, call drive.mount(\"/content/drive\", force_remount=True).\n"
          ],
          "name": "stdout"
        }
      ]
    },
    {
      "cell_type": "code",
      "metadata": {
        "id": "9p-2HfCMtL35",
        "colab_type": "code",
        "colab": {}
      },
      "source": [
        "path= \"/content/drive/My Drive/Dataset/\"\n",
        "data= os.listdir(path)\n",
        "#print (data)\n",
        "Data = pd.DataFrame(columns=[\"Image\", \"Age\", \"Gender\"])\n",
        "\n",
        "\n",
        "for idx,i in zip(range(len(data)),data):\n",
        "    age, gender, race, name=i.split(\"_\")\n",
        "    img = io.imread(path+i)\n",
        "    img = resize(img, (512, 512))\n",
        "    img = rgb2gray(img)\n",
        "    img=img_as_ubyte(img)\n",
        "    img=np.array(img)\n",
        "    Data.loc[idx] = [ img, age, np.int32(int(gender))]\n",
        "    #append(pd.Series(data={\"Image\":img, \"Age\":age, \"Gender\":gender}, name=idx))"
      ],
      "execution_count": 0,
      "outputs": []
    },
    {
      "cell_type": "code",
      "metadata": {
        "id": "lV7xzy1NtL39",
        "colab_type": "code",
        "outputId": "a8ab8466-1c98-4ec8-8541-ad245ec1070e",
        "colab": {
          "base_uri": "https://localhost:8080/",
          "height": 34
        }
      },
      "source": [
        "Data.shape"
      ],
      "execution_count": 140,
      "outputs": [
        {
          "output_type": "execute_result",
          "data": {
            "text/plain": [
              "(3251, 3)"
            ]
          },
          "metadata": {
            "tags": []
          },
          "execution_count": 140
        }
      ]
    },
    {
      "cell_type": "code",
      "metadata": {
        "id": "ppjD_DsxtL4E",
        "colab_type": "code",
        "outputId": "fe061940-d57c-4493-b669-42cd86da66be",
        "colab": {
          "base_uri": "https://localhost:8080/",
          "height": 204
        }
      },
      "source": [
        "Data.head()"
      ],
      "execution_count": 141,
      "outputs": [
        {
          "output_type": "execute_result",
          "data": {
            "text/html": [
              "<div>\n",
              "<style scoped>\n",
              "    .dataframe tbody tr th:only-of-type {\n",
              "        vertical-align: middle;\n",
              "    }\n",
              "\n",
              "    .dataframe tbody tr th {\n",
              "        vertical-align: top;\n",
              "    }\n",
              "\n",
              "    .dataframe thead th {\n",
              "        text-align: right;\n",
              "    }\n",
              "</style>\n",
              "<table border=\"1\" class=\"dataframe\">\n",
              "  <thead>\n",
              "    <tr style=\"text-align: right;\">\n",
              "      <th></th>\n",
              "      <th>Image</th>\n",
              "      <th>Age</th>\n",
              "      <th>Gender</th>\n",
              "    </tr>\n",
              "  </thead>\n",
              "  <tbody>\n",
              "    <tr>\n",
              "      <th>0</th>\n",
              "      <td>[[255, 255, 255, 255, 255, 255, 255, 255, 255,...</td>\n",
              "      <td>61</td>\n",
              "      <td>0</td>\n",
              "    </tr>\n",
              "    <tr>\n",
              "      <th>1</th>\n",
              "      <td>[[153, 174, 196, 206, 207, 205, 206, 206, 206,...</td>\n",
              "      <td>40</td>\n",
              "      <td>0</td>\n",
              "    </tr>\n",
              "    <tr>\n",
              "      <th>2</th>\n",
              "      <td>[[253, 253, 253, 252, 252, 252, 251, 252, 252,...</td>\n",
              "      <td>45</td>\n",
              "      <td>0</td>\n",
              "    </tr>\n",
              "    <tr>\n",
              "      <th>3</th>\n",
              "      <td>[[30, 27, 47, 67, 90, 105, 95, 86, 88, 91, 91,...</td>\n",
              "      <td>41</td>\n",
              "      <td>0</td>\n",
              "    </tr>\n",
              "    <tr>\n",
              "      <th>4</th>\n",
              "      <td>[[177, 177, 177, 178, 178, 178, 179, 179, 181,...</td>\n",
              "      <td>54</td>\n",
              "      <td>0</td>\n",
              "    </tr>\n",
              "  </tbody>\n",
              "</table>\n",
              "</div>"
            ],
            "text/plain": [
              "                                               Image Age Gender\n",
              "0  [[255, 255, 255, 255, 255, 255, 255, 255, 255,...  61      0\n",
              "1  [[153, 174, 196, 206, 207, 205, 206, 206, 206,...  40      0\n",
              "2  [[253, 253, 253, 252, 252, 252, 251, 252, 252,...  45      0\n",
              "3  [[30, 27, 47, 67, 90, 105, 95, 86, 88, 91, 91,...  41      0\n",
              "4  [[177, 177, 177, 178, 178, 178, 179, 179, 181,...  54      0"
            ]
          },
          "metadata": {
            "tags": []
          },
          "execution_count": 141
        }
      ]
    },
    {
      "cell_type": "code",
      "metadata": {
        "id": "qgCeg5zftL4K",
        "colab_type": "code",
        "outputId": "5925b705-47c3-4189-9420-68fca9705f30",
        "colab": {
          "base_uri": "https://localhost:8080/",
          "height": 419
        }
      },
      "source": [
        "rand_idxs = np.random.choice(Data.shape[0], 500, True)\n",
        "test = Data.loc[rand_idxs]\n",
        "train = Data\n",
        "train.drop(rand_idxs)"
      ],
      "execution_count": 142,
      "outputs": [
        {
          "output_type": "execute_result",
          "data": {
            "text/html": [
              "<div>\n",
              "<style scoped>\n",
              "    .dataframe tbody tr th:only-of-type {\n",
              "        vertical-align: middle;\n",
              "    }\n",
              "\n",
              "    .dataframe tbody tr th {\n",
              "        vertical-align: top;\n",
              "    }\n",
              "\n",
              "    .dataframe thead th {\n",
              "        text-align: right;\n",
              "    }\n",
              "</style>\n",
              "<table border=\"1\" class=\"dataframe\">\n",
              "  <thead>\n",
              "    <tr style=\"text-align: right;\">\n",
              "      <th></th>\n",
              "      <th>Image</th>\n",
              "      <th>Age</th>\n",
              "      <th>Gender</th>\n",
              "    </tr>\n",
              "  </thead>\n",
              "  <tbody>\n",
              "    <tr>\n",
              "      <th>0</th>\n",
              "      <td>[[255, 255, 255, 255, 255, 255, 255, 255, 255,...</td>\n",
              "      <td>61</td>\n",
              "      <td>0</td>\n",
              "    </tr>\n",
              "    <tr>\n",
              "      <th>1</th>\n",
              "      <td>[[153, 174, 196, 206, 207, 205, 206, 206, 206,...</td>\n",
              "      <td>40</td>\n",
              "      <td>0</td>\n",
              "    </tr>\n",
              "    <tr>\n",
              "      <th>2</th>\n",
              "      <td>[[253, 253, 253, 252, 252, 252, 251, 252, 252,...</td>\n",
              "      <td>45</td>\n",
              "      <td>0</td>\n",
              "    </tr>\n",
              "    <tr>\n",
              "      <th>3</th>\n",
              "      <td>[[30, 27, 47, 67, 90, 105, 95, 86, 88, 91, 91,...</td>\n",
              "      <td>41</td>\n",
              "      <td>0</td>\n",
              "    </tr>\n",
              "    <tr>\n",
              "      <th>4</th>\n",
              "      <td>[[177, 177, 177, 178, 178, 178, 179, 179, 181,...</td>\n",
              "      <td>54</td>\n",
              "      <td>0</td>\n",
              "    </tr>\n",
              "    <tr>\n",
              "      <th>...</th>\n",
              "      <td>...</td>\n",
              "      <td>...</td>\n",
              "      <td>...</td>\n",
              "    </tr>\n",
              "    <tr>\n",
              "      <th>3245</th>\n",
              "      <td>[[180, 180, 180, 180, 180, 180, 180, 180, 180,...</td>\n",
              "      <td>70</td>\n",
              "      <td>0</td>\n",
              "    </tr>\n",
              "    <tr>\n",
              "      <th>3246</th>\n",
              "      <td>[[152, 152, 152, 152, 152, 152, 152, 152, 152,...</td>\n",
              "      <td>65</td>\n",
              "      <td>0</td>\n",
              "    </tr>\n",
              "    <tr>\n",
              "      <th>3247</th>\n",
              "      <td>[[127, 127, 127, 127, 127, 127, 127, 127, 127,...</td>\n",
              "      <td>65</td>\n",
              "      <td>0</td>\n",
              "    </tr>\n",
              "    <tr>\n",
              "      <th>3248</th>\n",
              "      <td>[[158, 158, 158, 158, 158, 158, 158, 158, 158,...</td>\n",
              "      <td>58</td>\n",
              "      <td>0</td>\n",
              "    </tr>\n",
              "    <tr>\n",
              "      <th>3250</th>\n",
              "      <td>[[124, 124, 124, 124, 124, 124, 124, 124, 124,...</td>\n",
              "      <td>60</td>\n",
              "      <td>0</td>\n",
              "    </tr>\n",
              "  </tbody>\n",
              "</table>\n",
              "<p>2782 rows × 3 columns</p>\n",
              "</div>"
            ],
            "text/plain": [
              "                                                  Image Age Gender\n",
              "0     [[255, 255, 255, 255, 255, 255, 255, 255, 255,...  61      0\n",
              "1     [[153, 174, 196, 206, 207, 205, 206, 206, 206,...  40      0\n",
              "2     [[253, 253, 253, 252, 252, 252, 251, 252, 252,...  45      0\n",
              "3     [[30, 27, 47, 67, 90, 105, 95, 86, 88, 91, 91,...  41      0\n",
              "4     [[177, 177, 177, 178, 178, 178, 179, 179, 181,...  54      0\n",
              "...                                                 ...  ..    ...\n",
              "3245  [[180, 180, 180, 180, 180, 180, 180, 180, 180,...  70      0\n",
              "3246  [[152, 152, 152, 152, 152, 152, 152, 152, 152,...  65      0\n",
              "3247  [[127, 127, 127, 127, 127, 127, 127, 127, 127,...  65      0\n",
              "3248  [[158, 158, 158, 158, 158, 158, 158, 158, 158,...  58      0\n",
              "3250  [[124, 124, 124, 124, 124, 124, 124, 124, 124,...  60      0\n",
              "\n",
              "[2782 rows x 3 columns]"
            ]
          },
          "metadata": {
            "tags": []
          },
          "execution_count": 142
        }
      ]
    },
    {
      "cell_type": "code",
      "metadata": {
        "id": "0tf1Ra2AtL4P",
        "colab_type": "code",
        "outputId": "adfa37ea-b719-44bd-af36-7733f11418db",
        "colab": {
          "base_uri": "https://localhost:8080/",
          "height": 204
        }
      },
      "source": [
        "train.head()"
      ],
      "execution_count": 143,
      "outputs": [
        {
          "output_type": "execute_result",
          "data": {
            "text/html": [
              "<div>\n",
              "<style scoped>\n",
              "    .dataframe tbody tr th:only-of-type {\n",
              "        vertical-align: middle;\n",
              "    }\n",
              "\n",
              "    .dataframe tbody tr th {\n",
              "        vertical-align: top;\n",
              "    }\n",
              "\n",
              "    .dataframe thead th {\n",
              "        text-align: right;\n",
              "    }\n",
              "</style>\n",
              "<table border=\"1\" class=\"dataframe\">\n",
              "  <thead>\n",
              "    <tr style=\"text-align: right;\">\n",
              "      <th></th>\n",
              "      <th>Image</th>\n",
              "      <th>Age</th>\n",
              "      <th>Gender</th>\n",
              "    </tr>\n",
              "  </thead>\n",
              "  <tbody>\n",
              "    <tr>\n",
              "      <th>0</th>\n",
              "      <td>[[255, 255, 255, 255, 255, 255, 255, 255, 255,...</td>\n",
              "      <td>61</td>\n",
              "      <td>0</td>\n",
              "    </tr>\n",
              "    <tr>\n",
              "      <th>1</th>\n",
              "      <td>[[153, 174, 196, 206, 207, 205, 206, 206, 206,...</td>\n",
              "      <td>40</td>\n",
              "      <td>0</td>\n",
              "    </tr>\n",
              "    <tr>\n",
              "      <th>2</th>\n",
              "      <td>[[253, 253, 253, 252, 252, 252, 251, 252, 252,...</td>\n",
              "      <td>45</td>\n",
              "      <td>0</td>\n",
              "    </tr>\n",
              "    <tr>\n",
              "      <th>3</th>\n",
              "      <td>[[30, 27, 47, 67, 90, 105, 95, 86, 88, 91, 91,...</td>\n",
              "      <td>41</td>\n",
              "      <td>0</td>\n",
              "    </tr>\n",
              "    <tr>\n",
              "      <th>4</th>\n",
              "      <td>[[177, 177, 177, 178, 178, 178, 179, 179, 181,...</td>\n",
              "      <td>54</td>\n",
              "      <td>0</td>\n",
              "    </tr>\n",
              "  </tbody>\n",
              "</table>\n",
              "</div>"
            ],
            "text/plain": [
              "                                               Image Age Gender\n",
              "0  [[255, 255, 255, 255, 255, 255, 255, 255, 255,...  61      0\n",
              "1  [[153, 174, 196, 206, 207, 205, 206, 206, 206,...  40      0\n",
              "2  [[253, 253, 253, 252, 252, 252, 251, 252, 252,...  45      0\n",
              "3  [[30, 27, 47, 67, 90, 105, 95, 86, 88, 91, 91,...  41      0\n",
              "4  [[177, 177, 177, 178, 178, 178, 179, 179, 181,...  54      0"
            ]
          },
          "metadata": {
            "tags": []
          },
          "execution_count": 143
        }
      ]
    },
    {
      "cell_type": "code",
      "metadata": {
        "id": "44bQeXaEtL4S",
        "colab_type": "code",
        "outputId": "c3223dd6-d118-4775-a53c-6e9c9e2601d8",
        "colab": {
          "base_uri": "https://localhost:8080/",
          "height": 204
        }
      },
      "source": [
        "test.head()"
      ],
      "execution_count": 144,
      "outputs": [
        {
          "output_type": "execute_result",
          "data": {
            "text/html": [
              "<div>\n",
              "<style scoped>\n",
              "    .dataframe tbody tr th:only-of-type {\n",
              "        vertical-align: middle;\n",
              "    }\n",
              "\n",
              "    .dataframe tbody tr th {\n",
              "        vertical-align: top;\n",
              "    }\n",
              "\n",
              "    .dataframe thead th {\n",
              "        text-align: right;\n",
              "    }\n",
              "</style>\n",
              "<table border=\"1\" class=\"dataframe\">\n",
              "  <thead>\n",
              "    <tr style=\"text-align: right;\">\n",
              "      <th></th>\n",
              "      <th>Image</th>\n",
              "      <th>Age</th>\n",
              "      <th>Gender</th>\n",
              "    </tr>\n",
              "  </thead>\n",
              "  <tbody>\n",
              "    <tr>\n",
              "      <th>609</th>\n",
              "      <td>[[195, 195, 195, 195, 195, 195, 195, 195, 195,...</td>\n",
              "      <td>28</td>\n",
              "      <td>1</td>\n",
              "    </tr>\n",
              "    <tr>\n",
              "      <th>1912</th>\n",
              "      <td>[[206, 206, 206, 206, 206, 206, 206, 206, 206,...</td>\n",
              "      <td>43</td>\n",
              "      <td>1</td>\n",
              "    </tr>\n",
              "    <tr>\n",
              "      <th>865</th>\n",
              "      <td>[[149, 153, 170, 185, 200, 221, 238, 248, 249,...</td>\n",
              "      <td>28</td>\n",
              "      <td>0</td>\n",
              "    </tr>\n",
              "    <tr>\n",
              "      <th>1370</th>\n",
              "      <td>[[54, 60, 68, 73, 72, 68, 67, 66, 65, 64, 65, ...</td>\n",
              "      <td>30</td>\n",
              "      <td>0</td>\n",
              "    </tr>\n",
              "    <tr>\n",
              "      <th>3083</th>\n",
              "      <td>[[82, 82, 82, 82, 82, 82, 82, 82, 82, 82, 82, ...</td>\n",
              "      <td>58</td>\n",
              "      <td>0</td>\n",
              "    </tr>\n",
              "  </tbody>\n",
              "</table>\n",
              "</div>"
            ],
            "text/plain": [
              "                                                  Image Age Gender\n",
              "609   [[195, 195, 195, 195, 195, 195, 195, 195, 195,...  28      1\n",
              "1912  [[206, 206, 206, 206, 206, 206, 206, 206, 206,...  43      1\n",
              "865   [[149, 153, 170, 185, 200, 221, 238, 248, 249,...  28      0\n",
              "1370  [[54, 60, 68, 73, 72, 68, 67, 66, 65, 64, 65, ...  30      0\n",
              "3083  [[82, 82, 82, 82, 82, 82, 82, 82, 82, 82, 82, ...  58      0"
            ]
          },
          "metadata": {
            "tags": []
          },
          "execution_count": 144
        }
      ]
    },
    {
      "cell_type": "code",
      "metadata": {
        "id": "ibI4qM9ShSEz",
        "colab_type": "code",
        "colab": {
          "base_uri": "https://localhost:8080/",
          "height": 68
        },
        "outputId": "0f0a6976-6113-484e-b630-dbf02180b9dc"
      },
      "source": [
        "x = np.array([[np.array([1,2,3]),[1,2,3]]])\n",
        "print (x)\n",
        "x_tf = tf.convert_to_tensor(x)\n",
        "print (type(x_tf))"
      ],
      "execution_count": 145,
      "outputs": [
        {
          "output_type": "stream",
          "text": [
            "[[[1 2 3]\n",
            "  [1 2 3]]]\n",
            "<class 'tensorflow.python.framework.ops.EagerTensor'>\n"
          ],
          "name": "stdout"
        }
      ]
    },
    {
      "cell_type": "code",
      "metadata": {
        "id": "QT-DggedjFbu",
        "colab_type": "code",
        "colab": {}
      },
      "source": [
        "def get_batch(x):\n",
        "  rand_idxs = np.random.choice(train.shape[0], x, True)\n",
        "\n",
        "  x = (train.loc[rand_idxs][\"Image\"]).to_numpy()\n",
        "  img = np.zeros((x.shape[0],512,512))\n",
        "  for idx in range((x.shape[0])):\n",
        "    img[idx]=x[idx]\n",
        "  img= np.expand_dims(img,-1)\n",
        "  \n",
        "  y = train.loc[rand_idxs][\"Gender\"].to_numpy()\n",
        "  lab = np.zeros((y.shape[0]))\n",
        "  for idx in range((y.shape[0])):\n",
        "    lab[idx]=y[idx]\n",
        "  lab= np.expand_dims(lab,-1)\n",
        "  \n",
        "  return img,lab\n"
      ],
      "execution_count": 0,
      "outputs": []
    },
    {
      "cell_type": "code",
      "metadata": {
        "id": "xre5EHBRtL4d",
        "colab_type": "code",
        "colab": {}
      },
      "source": [
        "n_filters = 12 \n",
        "\n",
        "def classifier(n_outputs=1):\n",
        "    Conv2D = functools.partial(tf.keras.layers.Conv2D, padding='same', activation='relu')\n",
        "    BatchNormalization = tf.keras.layers.BatchNormalization\n",
        "    Flatten = tf.keras.layers.Flatten\n",
        "    Dense = functools.partial(tf.keras.layers.Dense, activation='relu')\n",
        "\n",
        "    model = tf.keras.Sequential([\n",
        "    Conv2D(filters=1*n_filters, kernel_size=5,  strides=2),\n",
        "    BatchNormalization(),\n",
        "    \n",
        "    Conv2D(filters=2*n_filters, kernel_size=5,  strides=2),\n",
        "    BatchNormalization(),\n",
        "\n",
        "    Conv2D(filters=4*n_filters, kernel_size=3,  strides=2),\n",
        "    BatchNormalization(),\n",
        "\n",
        "    Conv2D(filters=6*n_filters, kernel_size=3,  strides=2),\n",
        "    BatchNormalization(),\n",
        "\n",
        "    Flatten(),\n",
        "    Dense(512),\n",
        "    Dense(n_outputs, activation=None),\n",
        "  ])\n",
        "    return model\n",
        "My_classifier = classifier()"
      ],
      "execution_count": 0,
      "outputs": []
    },
    {
      "cell_type": "code",
      "metadata": {
        "id": "4nnNddbftL4j",
        "colab_type": "code",
        "outputId": "9d7f98c5-a270-43bf-b68c-8ca2ee830a8a",
        "colab": {
          "base_uri": "https://localhost:8080/",
          "height": 530
        }
      },
      "source": [
        "# Training hyperparameters\n",
        "batch_size = 32\n",
        "num_epochs = 2  # keep small to run faster\n",
        "learning_rate = 5e-4\n",
        "tf.keras.backend.set_floatx('float64')\n",
        "\n",
        "optimizer = tf.keras.optimizers.Adam(learning_rate) # define our optimizer\n",
        "loss_history = mdl.util.LossHistory(smoothing_factor=0.99) # to record loss evolution\n",
        "plotter = mdl.util.PeriodicPlotter(sec=2, scale='semilogy')\n",
        "if hasattr(tqdm, '_instances'): tqdm._instances.clear() # clear if it exists\n",
        "\n",
        "@tf.function\n",
        "def standard_train_step(x, y):\n",
        "    \n",
        "    with tf.GradientTape() as tape:\n",
        "    # feed the images into the model\n",
        "      logits = My_classifier(x)\n",
        "      logits=tf.cast(logits, tf.float64)\n",
        "    #Compute the loss\n",
        "      loss = tf.nn.sigmoid_cross_entropy_with_logits(labels=y, logits=logits)\n",
        "\n",
        "  # Backpropagation\n",
        "    grads = tape.gradient(loss, My_classifier.trainable_variables)\n",
        "    optimizer.apply_gradients(zip(grads, My_classifier.trainable_variables))\n",
        "    return loss\n",
        "    return logits \n",
        "  \n",
        "\n",
        "# The training loop!\n",
        "for epoch in range(num_epochs):\n",
        "    for idx in tqdm(range(train.shape[0]//batch_size)):\n",
        "        # Grab a batch of training data and propagate through the network\n",
        "        x, y = get_batch(batch_size)\n",
        "        loss = standard_train_step(x, y)\n",
        "\n",
        "        # Record the loss and plot the evolution of the loss as a function of training\n",
        "        loss_history.append(loss.numpy().mean())\n",
        "        plotter.plot(loss_history.get())"
      ],
      "execution_count": 164,
      "outputs": [
        {
          "output_type": "display_data",
          "data": {
            "image/png": "[encoded data removed]",
            "text/plain": [
              "<Figure size 432x288 with 1 Axes>"
            ]
          },
          "metadata": {
            "tags": []
          }
        },
        {
          "output_type": "stream",
          "text": [
            "100%|██████████| 101/101 [05:27<00:00,  3.24s/it]\n"
          ],
          "name": "stderr"
        },
        {
          "output_type": "display_data",
          "data": {
            "image/png": "[encoded data removed]",
            "text/plain": [
              "<Figure size 432x288 with 1 Axes>"
            ]
          },
          "metadata": {
            "tags": [],
            "needs_background": "light"
          }
        }
      ]
    },
    {
      "cell_type": "code",
      "metadata": {
        "id": "oOoUH6lctL4m",
        "colab_type": "code",
        "colab": {
          "base_uri": "https://localhost:8080/",
          "height": 578
        },
        "outputId": "45432e68-59a1-4cba-9693-1978627f3f31"
      },
      "source": [
        "x, y = get_batch(batch_size)\n",
        "\n",
        "logits = My_classifier(x)\n",
        "logits=tf.cast(logits, tf.float64)\n",
        "print (logits)\n",
        "\n"
      ],
      "execution_count": 165,
      "outputs": [
        {
          "output_type": "stream",
          "text": [
            "tf.Tensor(\n",
            "[[-1.17781794]\n",
            " [-3.43085599]\n",
            " [-3.96443248]\n",
            " [-0.91906416]\n",
            " [-0.82782042]\n",
            " [-2.61121035]\n",
            " [-1.52504718]\n",
            " [-0.51462454]\n",
            " [-1.52307236]\n",
            " [-1.79920733]\n",
            " [ 1.34571278]\n",
            " [-1.98814666]\n",
            " [ 0.97503185]\n",
            " [-1.34145701]\n",
            " [-0.30873385]\n",
            " [-0.20653507]\n",
            " [ 1.40889299]\n",
            " [ 2.47515416]\n",
            " [ 1.7101897 ]\n",
            " [-4.25461102]\n",
            " [-0.97786969]\n",
            " [-1.67171323]\n",
            " [-0.39124003]\n",
            " [ 1.91021669]\n",
            " [ 1.88022244]\n",
            " [-1.58705747]\n",
            " [ 0.96840274]\n",
            " [-3.26783967]\n",
            " [-3.09756684]\n",
            " [-0.84205759]\n",
            " [ 1.52960527]\n",
            " [-2.15774226]], shape=(32, 1), dtype=float64)\n"
          ],
          "name": "stdout"
        }
      ]
    }
  ]
}